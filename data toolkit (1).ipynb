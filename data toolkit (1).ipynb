{
 "cells": [
  {
   "cell_type": "markdown",
   "id": "66c62379-fbe9-4703-8d76-dfd85809a7be",
   "metadata": {},
   "source": [
    " 1 What is NumPy, and why is it widely used in Python\n",
    "\n",
    " NumPy (Numerical Python) is a popular Python library used for numerical computing. It provides support for large, multi-dimensional arrays and matrices, along with a collection of mathematical functions to operate on these arrays efficiently.\n",
    "\n",
    "Here are some reasons why NumPy is widely used in Python:\n",
    "\n",
    "Efficient Arrays: NumPy's core is its array object, which is significantly more efficient in terms of memory and performance compared to standard Python lists for numerical operations.\n",
    "Mathematical Functions: NumPy includes a wide range of mathematical functions that can be applied to entire arrays at once, eliminating the need for explicit loops. This makes code more concise and faster.\n",
    "Foundation for Data Science: Many other popular Python libraries for data science, such as Pandas, SciPy, and scikit-learn, are built on top of NumPy. Understanding NumPy is essential for working with these libraries.\n",
    "Broadcasting: NumPy has a powerful broadcasting mechanism that allows you to perform operations between arrays of different shapes and sizes, making complex operations easier.\n",
    "Integration with Other Languages: NumPy can easily integrate with code written in other languages like C, C++, and Fortran, which can be beneficial for performance-critical tasks."
   ]
  },
  {
   "cell_type": "code",
   "execution_count": null,
   "id": "1fe63f7b-6d2a-4bff-bc88-02aa2a298028",
   "metadata": {},
   "outputs": [],
   "source": [
    "2  How does broadcasting work in NumPy\n",
    "\n",
    "Broadcasting in NumPy is a mechanism that allows NumPy to perform arithmetic operations on arrays of different shapes. When operations are performed on arrays with incompatible shapes, NumPy attempts to broadcast the smaller array across the larger array so that they have compatible shapes [1].\n",
    "\n",
    "Here's how broadcasting generally works:\n",
    "\n",
    "Check for compatibility: NumPy compares the shapes of the arrays element-wise, starting from the trailing dimension.\n",
    "Dimensions with size 1: If a dimension of one array has a size of 1 and the corresponding dimension of the other array has a size greater than 1, the array with the dimension of size 1 is stretched to match the size of the other array.\n",
    "Missing dimensions: If one array has fewer dimensions than the other, the smaller array is padded with leading dimensions of size 1.\n",
    "Incompatible shapes: If the dimensions are incompatible (i.e., not equal and neither is 1), a ValueError is raised."
   ]
  },
  {
   "cell_type": "code",
   "execution_count": 1,
   "id": "0760a4fc-96c6-4319-8b0a-d3077bd74365",
   "metadata": {},
   "outputs": [
    {
     "name": "stdout",
     "output_type": "stream",
     "text": [
      "[3 4 5]\n"
     ]
    }
   ],
   "source": [
    "import numpy as np\n",
    "\n",
    "a = np.array([1, 2, 3])  # shape (3,)\n",
    "b = 2                    # treated as a scalar, effectively shape (1,)\n",
    "\n",
    "c = a + b\n",
    "print(c)"
   ]
  },
  {
   "cell_type": "code",
   "execution_count": 2,
   "id": "dc2ccbe2-2770-40b0-89d4-1fccba7fb13d",
   "metadata": {},
   "outputs": [
    {
     "name": "stdout",
     "output_type": "stream",
     "text": [
      "[[11 22 33]\n",
      " [14 25 36]]\n"
     ]
    }
   ],
   "source": [
    "\n",
    "import numpy as np\n",
    "\n",
    "a = np.array([[1, 2, 3],\n",
    "              [4, 5, 6]])  # shape (2, 3)\n",
    "b = np.array([10, 20, 30])  # shape (3,)\n",
    "\n",
    "c = a + b\n",
    "print(c)\n"
   ]
  },
  {
   "cell_type": "markdown",
   "id": "88a8b99d-b3cd-4c6d-8d02-7b40694bd878",
   "metadata": {},
   "source": [
    "3  What is a Pandas DataFrame\n",
    "A Pandas DataFrame is a two-dimensional, size-mutable, and potentially heterogeneous tabular data structure with labeled axes (rows and columns) [1]. It's one of the most commonly used Pandas objects and is fundamental for data manipulation and analysis in Python.\n",
    "\n",
    "Think of a DataFrame as a spreadsheet or a SQL table. It's composed of multiple columns, and each column can hold a different type of data (e.g., numbers, strings, boolean values). Each column in a DataFrame is essentially a Pandas Series.\n",
    "\n",
    "Here are some key characteristics of a Pandas DataFrame:\n",
    "\n",
    "Two-dimensional: Data is organized in rows and columns.\n",
    "Labeled axes: Both rows and columns have labels (index and columns). You can access data using these labels.\n",
    "Heterogeneous data: Different columns can have different data types.\n",
    "Size-mutable: You can add or remove columns from a DataFrame.\n",
    "Powerful operations: Pandas DataFrames provide a rich set of functions and methods for data manipulation, cleaning, analysis, and visualization.\n",
    "Here's a simple example of creating a Pandas DataFrame:\n"
   ]
  },
  {
   "cell_type": "code",
   "execution_count": 3,
   "id": "46732654-9cb0-4978-9251-8aa18dd3e67c",
   "metadata": {},
   "outputs": [
    {
     "name": "stdout",
     "output_type": "stream",
     "text": [
      "      Name  Age      City\n",
      "0    Alice   25  New York\n",
      "1      Bob   30    London\n",
      "2  Charlie   35     Paris\n"
     ]
    }
   ],
   "source": [
    "import pandas as pd\n",
    "\n",
    "data = {'Name': ['Alice', 'Bob', 'Charlie'],\n",
    "        'Age': [25, 30, 35],\n",
    "        'City': ['New York', 'London', 'Paris']}\n",
    "\n",
    "df = pd.DataFrame(data)\n",
    "print(df)"
   ]
  },
  {
   "cell_type": "markdown",
   "id": "1255506a-fc6c-473c-a9d6-2c8446049344",
   "metadata": {},
   "source": [
    "4 A Explain the use of the groupby() method in Pandas\n",
    "\n",
    "The groupby() method in Pandas is used to group data in a DataFrame based on one or more columns. It's a powerful tool for splitting your data into smaller groups and then applying a function to each group [1].\n",
    "\n",
    "The groupby() operation involves three main steps:\n",
    "\n",
    "Splitting: The data is split into groups based on the values in the specified column(s). Each unique value or combination of values in the grouping column(s) forms a separate group.\n",
    "Applying: A function or aggregation is applied to each group independently. This can be a built-in Pandas function (like sum(), mean(), count(), max(), min()), or a custom function.\n",
    "Combining: The results from each group are combined back into a single DataFrame or Series, depending on the operation performed."
   ]
  },
  {
   "cell_type": "code",
   "execution_count": null,
   "id": "9845fa4a-1b79-44f6-8398-cdf7ed7e519e",
   "metadata": {},
   "outputs": [],
   "source": [
    "import pandas as pd\n",
    "\n",
    "data = {'Category': ['A', 'B', 'A', 'B', 'A'],\n",
    "        'Value': [10, 20, 15, 25, 12]}\n",
    "\n",
    "df = pd.DataFrame(data)\n",
    "\n",
    "# Group by the 'Category' column and calculate the mean of 'Value' for each group\n",
    "grouped_data = df.groupby('Category')['Value'].mean()\n",
    "print(grouped_data)"
   ]
  },
  {
   "cell_type": "markdown",
   "id": "5a45dcb0-e204-4f40-824f-4c026cb5790d",
   "metadata": {},
   "source": [
    "n this example:\n",
    "\n",
    "The DataFrame is grouped by the 'Category' column. This splits the data into two groups: one for 'A' and one for 'B'.\n",
    "The mean() function is applied to the 'Value' column within each group.\n",
    "The results (the mean 'Value' for category 'A' and the mean 'Value' for category 'B') are combined into a new Series."
   ]
  },
  {
   "cell_type": "code",
   "execution_count": null,
   "id": "f10228df-f12b-404b-92c7-5c6a2d56848d",
   "metadata": {},
   "outputs": [],
   "source": [
    "5 Why is Seaborn preferred for statistical visualizations)\n",
    "Seaborn is preferred for statistical visualizations in Python for several key reasons:\n",
    "\n",
    "Built on Matplotlib: Seaborn is built on top of Matplotlib, which means you get all the flexibility and customization options of Matplotlib while benefiting from Seaborn's higher-level interface for creating visually appealing and informative statistical graphics [1].\n",
    "High-level Interface: Seaborn provides a high-level interface for drawing statistical graphics. This means you can create complex plots with fewer lines of code compared to using Matplotlib directly. It simplifies common statistical plotting tasks.\n",
    "Focus on Statistical Relationships: Seaborn is designed to visualize statistical relationships between variables. It provides specialized plot types like lmplot, regplot, jointplot, and pairplot that are particularly useful for exploring relationships in datasets.\n",
    "Attractive Default Styles: Seaborn comes with aesthetically pleasing default styles and color palettes that make your plots look professional and easy on the eyes. You can also easily customize the appearance of your plots.\n",
    "Integration with Pandas: Seaborn works seamlessly with Pandas DataFrames. You can often pass your DataFrame directly to Seaborn functions, making it convenient to plot data stored in this format.\n",
    "Specialized Plot Types: Seaborn offers a wide range of specialized plot types for visualizing different aspects of your data, such as:\n",
    "Distribution plots: Histograms, kernel density estimates, box plots, violin plots for showing the distribution of a single variable.\n",
    "Categorical plots: Bar plots, count plots, box plots, violin plots for visualizing relationships between categorical and numerical variables.\n",
    "Relational plots: Scatter plots, line plots for showing relationships between two numerical variables.\n",
    "Matrix plots: Heatmaps for visualizing relationships in matrices or correlation data."
   ]
  },
  {
   "cell_type": "code",
   "execution_count": null,
   "id": "57dc73bd-288d-48c1-8fb7-4d936e6a1d43",
   "metadata": {},
   "outputs": [],
   "source": [
    "6 What are the differences between NumPy arrays and Python lists\n",
    "\n",
    "NumPy arrays and Python lists are both used to store collections of data, but they have significant differences in their capabilities and performance, especially when dealing with numerical data.\n",
    "\n",
    "Here are the key differences:\n",
    "\n",
    "Data Type:\n",
    "\n",
    "NumPy Arrays: All elements in a NumPy array must be of the same data type. This homogeneity allows NumPy to perform operations much more efficiently.\n",
    "Python Lists: Python lists can store elements of different data types. This flexibility comes at the cost of performance.\n",
    "Performance:\n",
    "\n",
    "NumPy Arrays: NumPy operations are implemented in C and optimized for performance. They are significantly faster for mathematical and numerical operations compared to Python lists, especially for large datasets. This is because NumPy arrays are stored contiguously in memory, allowing for efficient vectorized operations.\n",
    "Python Lists: Python lists are more flexible but less efficient for numerical computations. Operations on lists are often performed element by element, which can be slow for large datasets.\n",
    "Functionality:\n",
    "\n",
    "NumPy Arrays: NumPy provides a wide range of mathematical and statistical functions that can be applied to entire arrays at once (vectorized operations). This includes functions for linear algebra, Fourier transforms, random number generation, and more.\n",
    "Python Lists: Python lists have basic operations for adding, removing, and accessing elements. However, they lack the extensive mathematical functionality of NumPy arrays. You would typically need to use loops or list comprehensions for mathematical operations on lists, which is less efficient.\n",
    "Memory Consumption:\n",
    "\n",
    "NumPy Arrays: NumPy arrays are generally more memory-efficient than Python lists, especially for storing large numbers of elements of the same type. This is because they store data contiguously and without the overhead associated with Python objects.\n",
    "Python Lists: Python lists can consume more memory due to the overhead of storing pointers to individual objects of potentially different data types.\n",
    "Broadcasting:\n",
    "\n",
    "NumPy Arrays: NumPy has a built-in broadcasting mechanism that allows you to perform operations on arrays of different shapes, which is very convenient for many numerical computations.\n",
    "Python Lists: Python lists do not have a direct equivalent of NumPy's broadcasting."
   ]
  },
  {
   "cell_type": "code",
   "execution_count": null,
   "id": "1f71f737-be04-46bb-9817-feb3ced1eca2",
   "metadata": {},
   "outputs": [],
   "source": [
    "7 What is a heatmap, and when should it be used)\n",
    "A heatmap is a data visualization technique that represents the magnitude of a phenomenon as color in two dimensions [1]. It's a graphical representation where individual values in a matrix are represented as colors.\n",
    "\n",
    "Here's a breakdown:\n",
    "\n",
    "Structure: A heatmap typically displays a matrix or a table of data. The rows and columns represent categories or variables, and the color of each cell represents the value or relationship between the corresponding row and column entries.\n",
    "Color Intensity: The intensity of the color in each cell is usually proportional to the magnitude of the value it represents. A color scale or legend is provided to interpret the colors.\n",
    "Dimensions: Heatmaps are typically used to visualize data with two dimensions, such as the relationship between two categorical variables or the correlation between different numerical variables.\n",
    "When to Use a Heatmap:\n",
    "\n",
    "Heatmaps are particularly useful in the following scenarios:\n",
    "\n",
    "Correlation Analysis: A very common use case is to visualize the correlation matrix between numerical variables in a dataset. A heatmap can quickly show which variables are highly correlated (positive or negative) and which are not. This helps in understanding the relationships within your data and can be useful for feature selection in machine learning.\n",
    "Exploring Relationships between Categorical Variables: When you have two categorical variables, you can create a contingency table (cross-tabulation) that shows the frequency or proportion of occurrences for each combination of categories. A heatmap can visualize this table, making it easy to see which combinations are more or less frequent.\n",
    "Displaying Data in a Grid: When you have data that can be organized into a grid-like structure, a heatmap can provide a concise visual summary. Examples include:\n",
    "Visualizing the performance of a model across different hyperparameters.\n",
    "Showing user activity on a website based on time of day and day of the week.\n",
    "Representing the intensity of gene expression in a biological experiment.\n",
    "Identifying Patterns and Outliers: The color patterns in a heatmap can help identify trends, clusters, and outliers in your data. Areas with consistently high or low values will stand out, as will individual cells with unusually high or low values compared to their neighbors."
   ]
  },
  {
   "cell_type": "code",
   "execution_count": null,
   "id": "fd8bd818-d6e1-4cb3-99d4-b8aced57858a",
   "metadata": {},
   "outputs": [],
   "source": [
    "8  What does the term “vectorized operation” mean in NumPy\n",
    "In NumPy, a \"vectorized operation\" refers to applying a mathematical or logical operation to an entire array or to arrays element-wise, without the need for explicit Python loops. NumPy's operations are designed to work directly on arrays, taking advantage of underlying C implementations for efficiency.\n",
    "\n",
    "Here's what it means in practice:\n",
    "\n",
    "Element-wise Operations: When you perform a vectorized operation, the operation is applied to each element of the array (or corresponding elements of two arrays) in a highly optimized way.\n",
    "Eliminating Loops: Instead of writing a for loop to iterate through each element of an array and apply an operation, you can simply apply the operation directly to the NumPy array. NumPy handles the element-wise application internally.\n",
    "Performance: Vectorized operations are significantly faster than equivalent operations using Python loops, especially for large arrays. This is because the operations are executed as optimized code in the backend (often in C or Fortran), which is much more efficient than the Python interpreter looping through elements.\n",
    "Conciseness: Vectorized code is often more concise and easier to read than code with explicit loops."
   ]
  },
  {
   "cell_type": "code",
   "execution_count": 4,
   "id": "7a32bb26-013d-4db2-8a01-fd622e17688f",
   "metadata": {},
   "outputs": [
    {
     "name": "stdout",
     "output_type": "stream",
     "text": [
      "NumPy vectorized time: 0.000000 seconds\n",
      "Python list loop time: 0.074904 seconds\n"
     ]
    }
   ],
   "source": [
    "import numpy as np\n",
    "import time\n",
    "\n",
    "# Using NumPy (vectorized)\n",
    "arr = np.arange(1000000)\n",
    "start_time = time.time()\n",
    "arr_plus_5 = arr + 5\n",
    "end_time = time.time()\n",
    "print(f\"NumPy vectorized time: {end_time - start_time:.6f} seconds\")\n",
    "\n",
    "# Using Python list (with a loop)\n",
    "py_list = list(range(1000000))\n",
    "start_time = time.time()\n",
    "py_list_plus_5 = [x + 5 for x in py_list]\n",
    "end_time = time.time()\n",
    "print(f\"Python list loop time: {end_time - start_time:.6f} seconds\")"
   ]
  },
  {
   "cell_type": "code",
   "execution_count": null,
   "id": "4d670d5f-642d-4410-aa52-cfa6542b9b2f",
   "metadata": {},
   "outputs": [],
   "source": [
    "9 A How does Matplotlib differ from Plotly\n",
    "Matplotlib and Plotly are both powerful Python libraries for data visualization, but they differ in several key aspects:\n",
    "\n",
    "Interactivity:\n",
    "\n",
    "Matplotlib: Primarily creates static plots. While it has some limited interactive features in certain environments, its strength lies in generating static images that are suitable for publications and reports [1].\n",
    "Plotly: Is designed for creating interactive plots. Plotly charts are interactive by default, allowing users to zoom, pan, hover over data points to see values, and toggle data series on and off [1]. This makes Plotly ideal for web-based visualizations and exploring data dynamically.\n",
    "Integration:\n",
    "\n",
    "Matplotlib: Integrates well with Jupyter notebooks and other Python environments. It's widely used for creating plots within scripts and notebooks.\n",
    "Plotly: Also integrates well with Jupyter notebooks, but its strength lies in creating visualizations that can be embedded in web applications or dashboards. Plotly offers libraries for various programming languages, including Python, R, JavaScript, and more.\n",
    "Complexity and Customization:\n",
    "\n",
    "Matplotlib: Offers a high degree of flexibility and customization at a low level. You have fine-grained control over every aspect of the plot, but this can sometimes require more code to achieve desired results.\n",
    "Plotly: Provides a higher-level interface for creating complex plots with less code. While it offers customization options, they are generally more straightforward to use compared to Matplotlib's low-level API.\n",
    "Output Format:\n",
    "\n",
    "Matplotlib: Typically generates static image files (e.g., PNG, JPEG, PDF) or displays plots inline in notebooks.\n",
    "Plotly: Generates interactive HTML files or JSON data that can be rendered in web browsers. It can also generate static images, but its primary output is interactive.\n",
    "Use Cases:\n",
    "\n",
    "Matplotlib: Excellent for creating static plots for analysis, reports, and publications where interactivity is not a primary requirement. It's a good choice for quick explorations and generating plots within scripts.\n",
    "Plotly: Ideal for creating interactive dashboards, web applications, and visualizations where users need to explore data dynamically. It's also a good choice for sharing visualizations online."
   ]
  },
  {
   "cell_type": "code",
   "execution_count": null,
   "id": "191bc5cb-7194-4043-a025-f7900c7c0ce9",
   "metadata": {},
   "outputs": [],
   "source": [
    "10 What is the significance of hierarchical indexing in Pandas\n",
    "Hierarchical indexing, also known as MultiIndex, in Pandas allows you to have multiple levels of indexes on an axis (rows or columns) [1]. This is significant because it enables you to work with and analyze data that has complex or multi-level relationships in a structured and efficient way.\n",
    "\n",
    "Here's the significance of using hierarchical indexing:\n",
    "\n",
    "Handling Multi-dimensional Data: While DataFrames are 2D, hierarchical indexing allows you to effectively represent and work with data that has more than two dimensions. Each level of the index can represent a different dimension of your data.\n",
    "Structuring Complex Data: Many real-world datasets have inherent hierarchical structures. For example, data from different regions, years, and product categories. Hierarchical indexing provides a natural way to organize and represent such data within a single DataFrame or Series.\n",
    "Simplified Data Selection and Manipulation: Hierarchical indexing makes it easier to select and manipulate subsets of data based on the different levels of the index. You can use slicing and fancy indexing with multiple levels to access specific parts of your data efficiently.\n",
    "Performing Grouped Operations: Hierarchical indexing is often used in conjunction with the groupby() method to perform operations on specific levels of the index. This allows you to aggregate or transform data based on different hierarchical groups.\n",
    "Reshaping Data: Hierarchical indexing is essential for reshaping operations like stack() and unstack(), which are used to transform data between long and wide formats. These operations often create or utilize hierarchical indexes.\n",
    "Improved Data Readability: While initially it might seem complex, a well-structured hierarchical index can make your data more organized and easier to understand, especially when dealing with large datasets with multiple levels of categorization.\n",
    "Example:\n",
    "\n",
    "Imagine you have sales data for different products in different regions over several years. You could use a hierarchical index with levels for 'Year', 'Region', and 'Product' to structure this data in a single DataFrame. This would allow you to easily select sales for a specific year, a specific region, or a specific product within a region."
   ]
  },
  {
   "cell_type": "code",
   "execution_count": null,
   "id": "7b98963a-e320-4fad-9d93-122baae68871",
   "metadata": {},
   "outputs": [],
   "source": [
    "11 What is the role of Seaborn’s pairplot() function)\n",
    "Seaborn's pairplot() function is a powerful tool for visualizing pairwise relationships in a dataset [1]. Its primary role is to create a grid of plots where:\n",
    "\n",
    "Diagonal Plots: The diagonal plots show the distribution of each variable individually. By default, it uses a histogram to show the distribution of numerical variables and a kernel density estimate (KDE) or count plot for categorical variables.\n",
    "Off-Diagonal Plots: The off-diagonal plots show the relationships between each pair of variables. By default, it uses scatter plots to show the relationship between two numerical variables.\n",
    "Essentially, pairplot() allows you to visualize the relationships between multiple variables in a dataset simultaneously. It's particularly useful for:\n",
    "\n",
    "Exploring Relationships: Quickly visualize the correlations and patterns between all pairs of numerical variables in your data.\n",
    "Identifying Trends: Spot trends, clusters, and outliers in the data by examining the scatter plots.\n",
    "Assessing Distributions: Understand the distribution of each variable individually by looking at the diagonal plots.\n",
    "Detecting Potential Issues: Identify potential issues like multicollinearity (high correlation between independent variables) or non-linear relationships that might need further investigation.\n",
    "Here's a basic example of how to use pairplot():"
   ]
  },
  {
   "cell_type": "code",
   "execution_count": 10,
   "id": "70ee70f9-38b5-4764-a446-ba74bbd9b49c",
   "metadata": {},
   "outputs": [
    {
     "ename": "AttributeError",
     "evalue": "module 'matplotlib.pyplot' has no attribute 'sho'",
     "output_type": "error",
     "traceback": [
      "\u001b[1;31m---------------------------------------------------------------------------\u001b[0m",
      "\u001b[1;31mAttributeError\u001b[0m                            Traceback (most recent call last)",
      "Cell \u001b[1;32mIn[10], line 11\u001b[0m\n\u001b[0;32m      8\u001b[0m sns\u001b[38;5;241m.\u001b[39mpairplot(penguins)\n\u001b[0;32m     10\u001b[0m \u001b[38;5;66;03m# Display the plot\u001b[39;00m\n\u001b[1;32m---> 11\u001b[0m plt\u001b[38;5;241m.\u001b[39msho\n",
      "\u001b[1;31mAttributeError\u001b[0m: module 'matplotlib.pyplot' has no attribute 'sho'"
     ]
    },
    {
     "data": {
      "image/png": "[encoded data removed]",
      "text/plain": [
       "<Figure size 1000x1000 with 20 Axes>"
      ]
     },
     "metadata": {},
     "output_type": "display_data"
    }
   ],
   "source": [
    "import seaborn as sns\n",
    "import matplotlib.pyplot as plt\n",
    "\n",
    "# Load a sample dataset (e.g., the penguins dataset)\n",
    "penguins = sns.load_dataset(\"penguins\")\n",
    "\n",
    "# Create a pairplot\n",
    "sns.pairplot(penguins)\n",
    "\n",
    "# Display the plot\n",
    "plt.show()"
   ]
  },
  {
   "cell_type": "code",
   "execution_count": null,
   "id": "2a9f2d3e-8cd0-4d0e-b379-6dad06d4cc11",
   "metadata": {},
   "outputs": [],
   "source": [
    "12 What is the purpose of the describe() function in Pandas\n",
    "The describe() function in Pandas is used to generate descriptive statistics of a DataFrame or Series [1]. It's a very useful function for getting a quick summary of your data.\n",
    "\n",
    "Here's the purpose of the describe() function:\n",
    "\n",
    "Summary Statistics for Numerical Data: When applied to a DataFrame with numerical columns, describe() calculates and displays a set of common summary statistics for each numerical column. These statistics typically include:\n",
    "\n",
    "count: The number of non-null values.\n",
    "mean: The average value.\n",
    "std: The standard deviation.\n",
    "min: The minimum value.\n",
    "25%: The first quartile (25th percentile).\n",
    "50%: The median (50th percentile).\n",
    "75%: The third quartile (75th percentile).\n",
    "max: The maximum value.\n",
    "Summary Statistics for Categorical/Object Data: When applied to a DataFrame with categorical (object) columns, describe() provides different summary statistics:\n",
    "\n",
    "count: The number of non-null values.\n",
    "unique: The number of unique values.\n",
    "top: The most frequent value.\n",
    "freq: The frequency of the most frequent value.\n",
    "Quick Data Overview: describe() gives you a rapid overview of the characteristics of your data. You can quickly see the range of values, the central tendency, the variability, and the presence of missing values (by comparing the count to the total number of rows).\n",
    "\n",
    "Initial Data Exploration: It's often one of the first functions you'll use when exploring a new dataset. The summary statistics can help you identify potential issues, such as outliers, skewed distributions, or unexpected value ranges."
   ]
  },
  {
   "cell_type": "code",
   "execution_count": 11,
   "id": "9693f115-ed07-462b-80fe-34f9342f47d4",
   "metadata": {},
   "outputs": [
    {
     "name": "stdout",
     "output_type": "stream",
     "text": [
      "              A          B\n",
      "count  5.000000   6.000000\n",
      "mean   3.000000  35.000000\n",
      "std    1.581139  18.708287\n",
      "min    1.000000  10.000000\n",
      "25%    2.000000  22.500000\n",
      "50%    3.000000  35.000000\n",
      "75%    4.000000  47.500000\n",
      "max    5.000000  60.000000\n",
      "              A          B\n",
      "count  5.000000   6.000000\n",
      "mean   3.000000  35.000000\n",
      "std    1.581139  18.708287\n",
      "min    1.000000  10.000000\n",
      "25%    2.000000  22.500000\n",
      "50%    3.000000  35.000000\n",
      "75%    4.000000  47.500000\n",
      "max    5.000000  60.000000\n",
      "        C\n",
      "count   6\n",
      "unique  3\n",
      "top     X\n",
      "freq    3\n"
     ]
    }
   ],
   "source": [
    "import pandas as pd\n",
    "import numpy as np\n",
    "\n",
    "data = {'A': [1, 2, 3, 4, 5, np.nan],\n",
    "        'B': [10, 20, 30, 40, 50, 60],\n",
    "        'C': ['X', 'Y', 'X', 'Z', 'Y', 'X']}\n",
    "\n",
    "df = pd.DataFrame(data)\n",
    "\n",
    "# Get descriptive statistics for the DataFrame\n",
    "print(df.describe())\n",
    "\n",
    "# Get descriptive statistics for only numerical columns\n",
    "print(df.describe(include=[np.number]))\n",
    "\n",
    "# Get descriptive statistics for only categorical columns\n",
    "print(df.describe(include=['object']))"
   ]
  },
  {
   "cell_type": "code",
   "execution_count": null,
   "id": "049c5ae9-9cf3-460c-853c-bc6f7eb4a1b5",
   "metadata": {},
   "outputs": [],
   "source": [
    "13 Why is handling missing data important in Pandas\n",
    "Handling missing data is crucial in Pandas for several reasons, and it's a fundamental step in the data cleaning and preparation process. Missing data, often represented as NaN (Not a Number) in NumPy-based Pandas data structures, can significantly impact the accuracy and reliability of your analysis and machine learning models [1].\n",
    "\n",
    "Here's why handling missing data is important:\n",
    "\n",
    "Impact on Calculations and Analysis: Many statistical and mathematical functions in Pandas and other libraries (like NumPy and SciPy) are designed to work with complete data. Missing values can lead to errors, unexpected results, or incorrect calculations when you perform operations like summing, averaging, or calculating standard deviations.\n",
    "Bias in Results: Ignoring missing data or handling it improperly can introduce bias into your analysis. For example, if missing values are not randomly distributed but are related to a specific characteristic of the data, your results might not be representative of the true underlying patterns.\n",
    "Machine Learning Models: Most machine learning algorithms cannot handle missing values directly. If you feed data with missing values to a model, it will likely raise an error or produce poor results. You need to address missing data before training a model.\n",
    "Reduced Dataset Size: If you simply remove all rows or columns with missing values, you might end up with a significantly reduced dataset, which can lead to a loss of valuable information and potentially impact the performance of your analysis or model.\n",
    "Data Integrity and Quality: Missing data can be an indicator of data collection issues or errors. Addressing missing data helps improve the overall quality and integrity of your dataset.\n",
    "Preventing Misleading Visualizations: Missing values can distort visualizations. For example, a line plot with missing data points might show misleading gaps or interpolated lines. Handling missing data ensures that your visualizations accurately represent the data.\n",
    "Common Approaches to Handling Missing Data:\n",
    "\n",
    "There are several common strategies for handling missing data in Pandas:\n",
    "\n",
    "Deletion:\n",
    "Dropping rows: Remove rows that contain missing values (dropna()). This is suitable when the number of missing values is small or when removing rows doesn't significantly reduce the dataset size.\n",
    "Dropping columns: Remove columns that contain missing values. This is an option if a column has a very high percentage of missing values and is not essential for your analysis.\n",
    "Imputation:\n",
    "Filling with a constant value: Replace missing values with a specific value, such as 0 or a placeholder (fillna()).\n",
    "Filling with the mean, median, or mode: Replace missing values with the mean, median, or mode of the non-missing values in the column. This is a common imputation technique.\n",
    "Filling with a forward or backward fill: Replace missing values with the previous or next non-missing value (fillna(method='ffill') or fillna(method='bfill')). This is often used for time series data.\n",
    "Model-based imputation: Use a machine learning model to predict the missing values based on other columns in the dataset.\n",
    "Keeping missing values (with careful consideration): In some cases, you might choose to keep missing values if the analysis method or model can handle them. However, this requires careful consideration and understanding of how the method treats missing data."
   ]
  },
  {
   "cell_type": "code",
   "execution_count": null,
   "id": "5d4304e8-6ba3-4cb1-92f7-ce85aa3c886d",
   "metadata": {},
   "outputs": [],
   "source": [
    "14 A What are the benefits of using Plotly for data visualization\n",
    "Using Plotly for data visualization offers several compelling benefits, making it a popular choice, especially for creating interactive and web-based visualizations:\n",
    "\n",
    "Interactivity: This is one of Plotly's biggest advantages. Plotly charts are interactive by default, allowing users to explore data by zooming, panning, hovering to see tooltips with data values, and toggling data traces on and off. This dynamic exploration can lead to deeper insights than static plots.\n",
    "Web-Based and Shareable: Plotly generates visualizations in formats that are easily embeddable in web applications, dashboards, and websites (typically as HTML or JSON). This makes it simple to share interactive plots with others without requiring them to have specific software installed.\n",
    "Wide Range of Plot Types: Plotly supports a vast array of chart types, from basic scatter and line plots to more complex visualizations like 3D plots, maps, contour plots, and statistical plots. This versatility allows you to visualize diverse datasets and relationships.\n",
    "Consistent API Across Languages: Plotly offers libraries for multiple programming languages (Python, R, JavaScript, MATLAB, etc.) with a relatively consistent API. This can be beneficial for teams using different languages or for migrating visualizations between platforms.\n",
    "Integration with Dash: Plotly is the charting library behind Dash, a popular framework for building interactive web applications with Python. This tight integration makes it easy to create full-fledged dashboards with interactive Plotly charts.\n",
    "High-Quality Aesthetics: Plotly charts are generally visually appealing with clean designs and professional-looking aesthetics. You can also customize the appearance of the plots to match your branding or preferences.\n",
    "Hover Information and Tooltips: The default hover behavior in Plotly charts provides detailed information about data points when the user hovers over them. This is very helpful for exploring individual data points and understanding their values.\n",
    "Export Options: While Plotly's strength is interactivity, it also allows you to export charts as static images (PNG, JPEG, PDF) if needed."
   ]
  },
  {
   "cell_type": "markdown",
   "id": "86cb036f-1fc3-47df-bf19-3e8ad13d158f",
   "metadata": {},
   "source": [
    "15  How does NumPy handle multidimensional arrays\n",
    "NumPy handles multidimensional arrays through its core data structure, the ndarray (n-dimensional array) object. This object is designed to efficiently store and manipulate arrays with any number of dimensions.\n",
    "\n",
    "Here's how NumPy handles multidimensional arrays:\n",
    "\n",
    "ndarray Object: The ndarray is the fundamental object in NumPy. It is a homogeneous array of fixed-size items [1]. This means all elements in the array have the same data type (e.g., integers, floats).\n",
    "Dimensions (Axes): A multidimensional array has multiple dimensions, also referred to as axes. For example:\n",
    "A 1-dimensional array is like a list or a vector.\n",
    "A 2-dimensional array is like a matrix or a table (rows and columns) [1].\n",
    "A 3-dimensional array can be thought of as a cube or a stack of matrices.\n",
    "And so on for higher dimensions.\n",
    "Shape: The shape attribute of a NumPy array is a tuple of integers that indicates the size of the array in each dimension. For example, an array with shape (2, 3) is a 2x3 matrix with 2 rows and 3 columns [2].\n",
    "Indexing and Slicing: NumPy allows you to access and modify elements in multidimensional arrays using indexing and slicing. You can use a comma-separated sequence of indices or slices for each dimension [2].\n",
    "arr[0, 1] accesses the element at the first row (index 0) and second column (index 1) of a 2D array [2].\n",
    "arr[:, 0] selects all elements in the first column of a 2D array.\n",
    "arr[0, :] selects all elements in the first row of a 2D array.\n",
    "Vectorized Operations: NumPy's strength lies in its ability to perform vectorized operations on entire arrays, regardless of their dimensionality. You can perform mathematical operations, comparisons, and other operations directly on multidimensional arrays without writing explicit loops. NumPy handles the element-wise operations efficiently.\n",
    "Broadcasting: As mentioned earlier, broadcasting allows NumPy to perform operations on arrays with different shapes, extending smaller arrays to match the shape of larger arrays [1]. This mechanism works seamlessly with multidimensional arrays.\n",
    "Memory Layout: NumPy arrays are stored in a contiguous block of memory. This contiguous storage allows for efficient access and manipulation of elements, contributing to NumPy's performance."
   ]
  },
  {
   "cell_type": "markdown",
   "id": "8884ffd8-d0ad-4f2e-bfb4-d4336ae66e21",
   "metadata": {},
   "source": [
    "16 What is the role of Bokeh in data visualization\n",
    "Bokeh is an interactive visualization library for modern web browsers [1]. Its primary role in data visualization is to enable the creation of interactive and highly customizable plots that can be embedded in web pages, dashboards, and applications.\n",
    "\n",
    "Here's a breakdown of Bokeh's role:\n",
    "\n",
    "Interactive Visualizations: Bokeh's core focus is on creating interactive plots. It provides tools for adding interactive features like zooming, panning, tooltips (hovering over data points to see information), and linking plots together. These interactive elements allow users to explore and manipulate the data directly within the visualization.\n",
    "Web Browser Output: Bokeh generates visualizations as HTML files or JSON objects that can be rendered directly in a web browser. This makes it easy to share and deploy interactive plots online without requiring users to have specific software installed.\n",
    "Bokeh Server: Bokeh includes a Bokeh server that allows you to build complex, interactive data applications. The server enables you to connect Python code to front-end components in the browser, allowing for dynamic updates and user interactions that trigger Python callbacks [1]. This is a powerful feature for building dashboards and applications with real-time data.\n",
    "High Customizability: Bokeh provides a flexible and extensive API that allows for a high degree of customization. You have control over various aspects of the plot's appearance, including glyphs (markers, lines, etc.), axes, legends, and interactive tools.\n",
    "Handling Large Datasets: Bokeh is designed to handle large datasets efficiently. It uses modern web technologies and techniques to render large amounts of data in the browser without compromising performance.\n",
    "Integration with Other Libraries: Bokeh integrates well with other Python libraries for data manipulation and analysis, such as Pandas and NumPy. You can easily plot data from these libraries using Bokeh.\n",
    "When to Use Bokeh:\n",
    "\n",
    "Bokeh is a good choice when:\n",
    "\n",
    "You need interactive visualizations that allow users to explore the data.\n",
    "You want to embed your plots in web pages, dashboards, or web applications.\n",
    "You need to build complex interactive data applications with server-side Python logic.\n",
    "You are working with large datasets and need a visualization library that can handle them efficiently."
   ]
  },
  {
   "cell_type": "code",
   "execution_count": null,
   "id": "f5098637-4542-4c48-8810-b43f5634b751",
   "metadata": {},
   "outputs": [],
   "source": [
    "17 A Explain the difference between apply() and map() in PandasA\n",
    "In Pandas, both apply() and map() are used for applying functions to data, but they are typically used in different contexts and have different behaviors:\n",
    "\n",
    "map():\n",
    "Used for: Element-wise operations on a Series.\n",
    "Purpose: To substitute each value in a Series with another value based on a dictionary, a Series, or a function.\n",
    "How it works: Iterates over each element of a Series and applies the specified mapping or function to each element individually.\n",
    "Input: Takes a dictionary, a Series (where the index is the old value and the value is the new value), or a function as an argument.\n",
    "Output: Returns a new Series with the transformed values.\n",
    "Best for: Replacing values based on a lookup, transforming values based on a simple function applied to each element."
   ]
  },
  {
   "cell_type": "code",
   "execution_count": null,
   "id": "66a5cc43-e8ea-430f-bb1b-a999af30472a",
   "metadata": {},
   "outputs": [],
   "source": [
    "18  What are some advanced features of NumPy\n",
    "NumPy offers a rich set of advanced features beyond basic array creation and manipulation. Here are some significant ones:\n",
    "\n",
    "Broadcasting (covered previously): While a fundamental concept, its application in complex scenarios with multidimensional arrays can be considered an advanced feature. It allows for efficient operations on arrays of different shapes without explicitly creating copies [1].\n",
    "\n",
    "Structured Arrays: NumPy allows you to create arrays with structured data types, similar to structs in C. Each element in the array can have multiple fields, each with a different data type and name [2]. This is useful for representing tabular data or data with mixed types within a single array.\n",
    "\n",
    "import numpy as np\n",
    "\n",
    "    dtype = [('name', 'S10'), ('age', 'i4'), ('height', 'f8')]\n",
    "    data = [('Alice', 25, 1.65), ('Bob', 30, 1.80)]\n",
    "    structured_array = np.array(data, dtype=dtype)\n",
    "    print(structured_array['name'])\n"
   ]
  },
  {
   "cell_type": "code",
   "execution_count": null,
   "id": "5ddabf3e-a690-4924-8d3c-27e92ccd738b",
   "metadata": {},
   "outputs": [],
   "source": [
    "19  How does Pandas simplify time series analysis\n",
    "Pandas significantly simplifies time series analysis by providing specialized data structures and functions designed to handle time-stamped data efficiently and conveniently. Here's how it does that:\n",
    "\n",
    "DatetimeIndex: Pandas introduces the DatetimeIndex as a specialized index for Series and DataFrames [2]. This index is optimized for working with time series data and allows for efficient time-based operations like slicing, resampling, and aligning data.\n",
    "\n",
    "Conversion to Datetime Objects: Pandas provides the to_datetime() function to easily convert strings or other data types into datetime objects [1]. This is crucial for ensuring that your time-based data is in a format that Pandas can recognize and work with."
   ]
  },
  {
   "cell_type": "code",
   "execution_count": null,
   "id": "465c9c22-89a5-40d1-a096-eb40856477a3",
   "metadata": {},
   "outputs": [],
   "source": [
    "import pandas as pd\n",
    "\n",
    "    dates = ['2023-01-01', '2023-01-02', '2023-01-03']\n",
    "    ts_index = pd.to_datetime(dates)\n",
    "    print(ts_index)"
   ]
  },
  {
   "cell_type": "code",
   "execution_count": null,
   "id": "4248e5f7-8453-4d00-b60d-515330cd5c06",
   "metadata": {},
   "outputs": [],
   "source": [
    "Time-Based Indexing and Slicing: With a DatetimeIndex, you can easily select data based on time ranges using familiar Python slicing syntax. This includes selecting data for specific dates, months, years, or time intervals."
   ]
  },
  {
   "cell_type": "code",
   "execution_count": null,
   "id": "32209c94-5980-448b-a345-7547852543c0",
   "metadata": {},
   "outputs": [],
   "source": [
    "import pandas as pd\n",
    "\n",
    "    dates = pd.to_datetime(['2023-01-01', '2023-01-02', '2023-01-03', '2023-01-04'])\n",
    "    data = [10, 15, 12, 18]\n",
    "    ts = pd.Series(data, index=dates)\n",
    "\n",
    "    # Select data for a specific date\n",
    "    print(ts['2023-01-02'])\n",
    "\n",
    "    # Select data for a date range\n",
    "    print(ts['2023-01-01':'2023-01-03'])"
   ]
  },
  {
   "cell_type": "code",
   "execution_count": null,
   "id": "e74c19a3-8e76-42bb-908a-6ed4befb7526",
   "metadata": {},
   "outputs": [],
   "source": [
    "Resampling: Pandas provides powerful resampling capabilities to change the frequency of your time series data. You can downsample (e.g., from daily to monthly) or upsample (e.g., from hourly to minute) your data and apply aggregation functions (like mean, sum, etc.) during the resampling process.\n",
    "\n",
    "Frequency Conversion: Pandas allows you to easily convert the frequency of your time series data to a standard frequency (e.g., 'D' for daily, 'M' for monthly, 'H' for hourly). This is essential for aligning and comparing time series data with different frequencies.\n",
    "\n",
    "Time Zone Handling: Pandas supports time zone handling, allowing you to localize and convert time series data to different time zones. This is important when working with data from different geographical locations.\n",
    "\n",
    "Handling Missing Data: Pandas provides methods for handling missing data in time series, such as filling missing values with previous or next values (ffill and bfill) or interpolating values [1].\n",
    "\n",
    "Rolling and Expanding Windows: Pandas offers functions for calculating rolling (moving) and expanding window statistics (like rolling mean, rolling sum). These are useful for smoothing time series data, identifying trends, and calculating moving averages.\n",
    "\n",
    "Lagging and Differencing: Pandas provides convenient ways to create lagged versions of a time series or calculate the difference between consecutive values. These operations are important for time series analysis techniques like autoregressive modeling."
   ]
  },
  {
   "cell_type": "code",
   "execution_count": null,
   "id": "1d577697-c94b-471c-b958-8a9f407fd52b",
   "metadata": {},
   "outputs": [],
   "source": [
    "20 What is the role of a pivot table in Pandas)\n",
    "\n",
    "In Pandas, a pivot table is a way to summarize and aggregate data in a DataFrame [2]. It's similar to the pivot table feature in spreadsheet software like Excel. The role of a pivot table in Pandas is to restructure and analyze data by creating a new table that summarizes data from a DataFrame based on one or more key columns.\n",
    "\n",
    "Here's a breakdown of the role of a pivot table:\n",
    "\n",
    "Summarizing Data: The primary purpose of a pivot table is to summarize data by grouping it based on unique values in specified columns. You can then apply aggregation functions (like sum, mean, count, etc.) to other columns to get summary statistics for each group [2].\n",
    "\n",
    "Restructuring Data: A pivot table reshapes the original DataFrame. It typically uses one or more columns to form the new index (rows) of the pivot table, one or more columns to form the new columns of the pivot table, and a column (or columns) to provide the values for the cells [2].\n",
    "\n",
    "Analyzing Relationships: Pivot tables are excellent for analyzing the relationships between different variables in your data. By putting different columns on the rows and columns of the pivot table and aggregating a value, you can quickly see how the aggregated value varies across different categories.\n",
    "\n",
    "Creating Cross-Tabulations: Pivot tables can be used to create cross-tabulations (also known as contingency tables) that show the frequency or summary statistics of one variable broken down by categories of another variable.\n",
    "\n",
    "Applying Aggregations: You can specify the aggregation function(s) to be applied to the values in the pivot table. Common aggregation functions include sum, mean, count, max, min, and you can also use custom functions [2].\n",
    "\n",
    "Handling MultiIndex (Hierarchical Indexing): The resulting pivot table often has a MultiIndex (hierarchical index) on the rows and/or columns if you use multiple columns for the index or columns of the pivot table [1]. This allows for a structured representation of the summarized data.\n",
    "\n",
    "Example:\n",
    "\n",
    "Imagine you have sales data with columns for 'Region', 'Product', and 'Sales Amount'. You could create a pivot table to summarize the total sales amount for each product in each region:"
   ]
  },
  {
   "cell_type": "code",
   "execution_count": 13,
   "id": "a8fd05ac-31e9-4fb0-92e8-23c060276ff8",
   "metadata": {},
   "outputs": [
    {
     "name": "stdout",
     "output_type": "stream",
     "text": [
      "Product    A    B\n",
      "Region           \n",
      "East     220  200\n",
      "West     150  470\n"
     ]
    }
   ],
   "source": [
    "import pandas as pd\n",
    "\n",
    "data = {'Region': ['East', 'West', 'East', 'West', 'East', 'West'],\n",
    "        'Product': ['A', 'A', 'B', 'B', 'A', 'B'],\n",
    "        'Sales Amount': [100, 150, 200, 250, 120, 220]}\n",
    "\n",
    "df = pd.DataFrame(data)\n",
    "\n",
    "# Create a pivot table to summarize sales by Region and Product\n",
    "pivot_table = pd.pivot_table(df, values='Sales Amount', index='Region', columns='Product', aggfunc='sum')\n",
    "print(pivot_table)"
   ]
  },
  {
   "cell_type": "code",
   "execution_count": null,
   "id": "ea6c3aa8-3b05-4ebd-b288-2620599d3506",
   "metadata": {},
   "outputs": [],
   "source": [
    "21 Why is NumPy’s array slicing faster than Python’s list slicing\n",
    "NumPy array slicing is generally faster than Python list slicing due to fundamental differences in how they are implemented and stored in memory.\n",
    "\n",
    "Here's a breakdown of the reasons:\n",
    "\n",
    "Contiguous Memory Allocation:\n",
    "\n",
    "NumPy Arrays: NumPy arrays are stored in contiguous blocks of memory. This means that the elements of the array are stored sequentially in memory.\n",
    "Python Lists: Python lists are implemented as arrays of pointers to Python objects. The objects themselves can be stored in scattered locations in memory.\n",
    "Because NumPy arrays are contiguous, accessing a slice of a NumPy array is essentially accessing a contiguous block of memory. This is a very efficient operation for the computer's memory management. In contrast, slicing a Python list involves creating a new list and copying the references to the objects from the original list, which can be less efficient due to the scattered memory locations of the objects.\n",
    "\n",
    "Fixed Data Type:\n",
    "\n",
    "NumPy Arrays: All elements in a NumPy array have the same data type. This homogeneity allows NumPy to optimize operations and storage. When slicing, NumPy knows the size of each element and can quickly calculate the memory location of the start and end of the slice.\n",
    "Python Lists: Python lists can store objects of different data types. This heterogeneity adds overhead because the list needs to store type information for each element. When slicing, Python needs to handle potentially different data types and object sizes.\n",
    "Underlying Implementation (C):\n",
    "\n",
    "NumPy Arrays: NumPy operations, including slicing, are implemented in C and optimized for performance. C code is generally faster than Python code because it's compiled and executed closer to the hardware.\n",
    "Python Lists: Python list operations are implemented in Python and are interpreted, which is generally slower than compiled C code.\n",
    "View vs. Copy (in some cases):\n",
    "\n",
    "NumPy Arrays: In many cases, slicing a NumPy array returns a \"view\" of the original array, not a copy of the data. This means that changes to the sliced view will also affect the original array. Creating a view is much faster than creating a full copy of the data.\n",
    "Python Lists: Slicing a Python list always creates a new list with copies of the elements from the original list. This copying operation takes time and memory."
   ]
  },
  {
   "cell_type": "code",
   "execution_count": null,
   "id": "29c44c24-7900-41a4-9c99-6037292dee46",
   "metadata": {},
   "outputs": [],
   "source": [
    "22 What are some common use cases for Seaborn?\n",
    "Seaborn is widely used for various statistical data visualization tasks. Here are some common use cases for Seaborn:\n",
    "\n",
    "Exploring Distributions: Seaborn provides several plot types for visualizing the distribution of a single variable or the distribution of a variable across different categories. This includes:\n",
    "\n",
    "Histograms: To show the frequency distribution of a numerical variable.\n",
    "Kernel Density Estimates (KDEs): To estimate the probability density function of a variable.\n",
    "Box Plots: To show the quartiles, median, and outliers of a numerical variable, often grouped by category.\n",
    "Violin Plots: Similar to box plots but also show the probability density of the data.\n",
    "Visualizing Relationships: Seaborn is excellent for visualizing relationships between two or more variables:\n",
    "\n",
    "Scatter Plots: To show the relationship between two numerical variables. Seaborn adds features like automatically fitting regression lines (lmplot, regplot) and highlighting different categories with colors.\n",
    "Line Plots: To show the trend of a variable over time or another ordered variable [1].\n",
    "Pairwise Relationships: Using pairplot() to visualize the relationships between all pairs of variables in a dataset [1].\n",
    "Heatmaps: To visualize the relationships in a matrix, such as a correlation matrix or a contingency table [1].\n",
    "Visualizing Categorical Data: Seaborn has specialized plots for visualizing relationships involving categorical variables:\n",
    "\n",
    "Bar Plots: To show the mean or other aggregate of a numerical variable for each category.\n",
    "Count Plots: To show the number of observations in each category.\n",
    "Box Plots and Violin Plots: As mentioned above, these are often used to compare the distribution of a numerical variable across different categories.\n",
    "Swarm Plots: To show the distribution of points for each category while avoiding overlap.\n",
    "Creating Multi-Panel Plots: Seaborn makes it easy to create grids of plots (faceting) based on different categories in your data. This allows you to compare the relationships or distributions across different subsets of your data.\n",
    "\n",
    "Customizing Aesthetics: Seaborn provides built-in themes and color palettes that make it easy to create visually appealing plots. You can also customize various aspects of the plot's appearance.\n",
    "\n",
    "Statistical Estimation and Plotting: Seaborn integrates statistical estimation into its plotting functions. For example, in a scatter plot, it can automatically calculate and display a regression line and its confidence interval [1]."
   ]
  },
  {
   "cell_type": "code",
   "execution_count": null,
   "id": "e32aeb9c-d642-458c-8d86-83625eeed432",
   "metadata": {},
   "outputs": [],
   "source": [
    "23  How do you create a 2D NumPy array and calculate the sum of each row)"
   ]
  },
  {
   "cell_type": "code",
   "execution_count": 14,
   "id": "5bcea4b2-5a04-4363-acee-3bb9bb4d9794",
   "metadata": {},
   "outputs": [
    {
     "name": "stdout",
     "output_type": "stream",
     "text": [
      "Original 2D Array:\n",
      "[[1 2 3]\n",
      " [4 5 6]\n",
      " [7 8 9]]\n",
      "\n",
      "Sum of each row:\n",
      "[ 6 15 24]\n"
     ]
    }
   ],
   "source": [
    "import numpy as np\n",
    "\n",
    "# Create a 2D NumPy array\n",
    "data = [[1, 2, 3],\n",
    "        [4, 5, 6],\n",
    "        [7, 8, 9]]\n",
    "two_d_array = np.array(data)\n",
    "\n",
    "# Calculate the sum of each row\n",
    "row_sums = two_d_array.sum(axis=1)\n",
    "\n",
    "# Print the original array and the row sums\n",
    "print(\"Original 2D Array:\")\n",
    "print(two_d_array)\n",
    "print(\"\\nSum of each row:\")\n",
    "print(row_sums)"
   ]
  },
  {
   "cell_type": "code",
   "execution_count": null,
   "id": "a3fc4ac0-88ea-43ef-b8f4-ca24971828a5",
   "metadata": {},
   "outputs": [],
   "source": [
    "24  Write a Pandas script to find the mean of a specific column in a DataFrameA\n"
   ]
  },
  {
   "cell_type": "code",
   "execution_count": 15,
   "id": "699c65af-6917-4333-899d-7f541cc53685",
   "metadata": {},
   "outputs": [
    {
     "name": "stdout",
     "output_type": "stream",
     "text": [
      "Original DataFrame:\n",
      "    A  B  C\n",
      "0  10  1  X\n",
      "1  20  2  Y\n",
      "2  30  3  Z\n",
      "3  40  4  X\n",
      "4  50  5  Y\n",
      "\n",
      "Mean of column 'A':\n",
      "30.0\n"
     ]
    }
   ],
   "source": [
    "import pandas as pd\n",
    "\n",
    "# Create a sample DataFrame\n",
    "data = {'A': [10, 20, 30, 40, 50],\n",
    "        'B': [1, 2, 3, 4, 5],\n",
    "        'C': ['X', 'Y', 'Z', 'X', 'Y']}\n",
    "\n",
    "df = pd.DataFrame(data)\n",
    "\n",
    "# Specify the column name\n",
    "column_name = 'A'\n",
    "\n",
    "# Select the column and calculate its mean\n",
    "column_mean = df[column_name].mean()\n",
    "\n",
    "# Print the DataFrame and the mean of the column\n",
    "print(\"Original DataFrame:\")\n",
    "print(df)\n",
    "print(f\"\\nMean of column '{column_name}':\")\n",
    "print(column_mean)"
   ]
  },
  {
   "cell_type": "code",
   "execution_count": null,
   "id": "b3b4cacf-176a-4299-b870-e2970edea294",
   "metadata": {},
   "outputs": [],
   "source": [
    "25 Create a scatter plot using MatplotlibA"
   ]
  },
  {
   "cell_type": "code",
   "execution_count": 16,
   "id": "702e18d0-742f-4e93-aedc-6152a7ac2f6b",
   "metadata": {},
   "outputs": [
    {
     "data": {
      "image/png": "[encoded data removed]",
      "text/plain": [
       "<Figure size 640x480 with 1 Axes>"
      ]
     },
     "metadata": {},
     "output_type": "display_data"
    }
   ],
   "source": [
    "import matplotlib.pyplot as plt\n",
    "import numpy as np\n",
    "\n",
    "# Prepare sample data\n",
    "x_data = np.array([1, 2, 3, 4, 5, 6, 7, 8, 9, 10])\n",
    "y_data = np.array([5, 2, 4, 2, 1, 4, 5, 2, 6, 7])\n",
    "\n",
    "# Create a scatter plot\n",
    "plt.scatter(x_data, y_data)\n",
    "\n",
    "# Add labels and title\n",
    "plt.xlabel(\"X-axis Label\")\n",
    "plt.ylabel(\"Y-axis Label\")\n",
    "plt.title(\"Simple Scatter Plot\")\n",
    "\n",
    "# Display the plot\n",
    "plt.show()"
   ]
  },
  {
   "cell_type": "code",
   "execution_count": null,
   "id": "ee5b2798-58ab-4295-9738-44732af268f5",
   "metadata": {},
   "outputs": [],
   "source": [
    "26 How do you calculate the correlation matrix using Seaborn and visualize it with a heatmap)"
   ]
  },
  {
   "cell_type": "code",
   "execution_count": 17,
   "id": "0ffbb02f-f14d-4b69-af48-7a1051419a87",
   "metadata": {},
   "outputs": [
    {
     "data": {
      "image/png": "[encoded data removed]",
      "text/plain": [
       "<Figure size 800x600 with 2 Axes>"
      ]
     },
     "metadata": {},
     "output_type": "display_data"
    }
   ],
   "source": [
    "import pandas as pd\n",
    "import seaborn as sns\n",
    "import matplotlib.pyplot as plt\n",
    "import numpy as np\n",
    "\n",
    "# Create a sample DataFrame\n",
    "data = {'A': [10, 12, 15, 18, 20],\n",
    "        'B': [5, 6, 7, 9, 10],\n",
    "        'C': [2, 4, 3, 5, 6],\n",
    "        'D': [100, 90, 80, 70, 60]}\n",
    "\n",
    "df = pd.DataFrame(data)\n",
    "\n",
    "# Calculate the correlation matrix\n",
    "correlation_matrix = df.corr()\n",
    "\n",
    "# Create a heatmap to visualize the correlation matrix\n",
    "plt.figure(figsize=(8, 6)) # Optional: Adjust figure size\n",
    "sns.heatmap(correlation_matrix, annot=True, cmap='coolwarm', fmt=\".2f\")\n",
    "\n",
    "# Add a title\n",
    "plt.title('Correlation Matrix Heatmap')\n",
    "\n",
    "# Display the plot\n",
    "plt.show()"
   ]
  },
  {
   "cell_type": "code",
   "execution_count": null,
   "id": "be44f4cc-eeac-45ce-a78a-ddf9e1103656",
   "metadata": {},
   "outputs": [],
   "source": [
    "27 A Generate a bar plot using PlotlyA"
   ]
  },
  {
   "cell_type": "code",
   "execution_count": 19,
   "id": "75bc5183-23d4-4efb-82cd-e21481d29bbf",
   "metadata": {},
   "outputs": [
    {
     "data": {
      "application/vnd.plotly.v1+json": {
       "config": {
        "plotlyServerURL": "https://plot.ly"
       },
       "data": [
        {
         "alignmentgroup": "True",
         "hovertemplate": "Category=%{x}<br>Value=%{y}<extra></extra>",
         "legendgroup": "",
         "marker": {
          "color": "#636efa",
          "pattern": {
           "shape": ""
          }
         },
         "name": "",
         "offsetgroup": "",
         "orientation": "v",
         "showlegend": false,
         "textposition": "auto",
         "type": "bar",
         "x": [
          "A",
          "B",
          "C",
          "D",
          "E"
         ],
         "xaxis": "x",
         "y": [
          10,
          15,
          7,
          12,
          9
         ],
         "yaxis": "y"
        }
       ],
       "layout": {
        "autosize": true,
        "barmode": "relative",
        "legend": {
         "tracegroupgap": 0
        },
        "template": {
         "data": {
          "bar": [
           {
            "error_x": {
             "color": "#2a3f5f"
            },
            "error_y": {
             "color": "#2a3f5f"
            },
            "marker": {
             "line": {
              "color": "#E5ECF6",
              "width": 0.5
             },
             "pattern": {
              "fillmode": "overlay",
              "size": 10,
              "solidity": 0.2
             }
            },
            "type": "bar"
           }
          ],
          "barpolar": [
           {
            "marker": {
             "line": {
              "color": "#E5ECF6",
              "width": 0.5
             },
             "pattern": {
              "fillmode": "overlay",
              "size": 10,
              "solidity": 0.2
             }
            },
            "type": "barpolar"
           }
          ],
          "carpet": [
           {
            "aaxis": {
             "endlinecolor": "#2a3f5f",
             "gridcolor": "white",
             "linecolor": "white",
             "minorgridcolor": "white",
             "startlinecolor": "#2a3f5f"
            },
            "baxis": {
             "endlinecolor": "#2a3f5f",
             "gridcolor": "white",
             "linecolor": "white",
             "minorgridcolor": "white",
             "startlinecolor": "#2a3f5f"
            },
            "type": "carpet"
           }
          ],
          "choropleth": [
           {
            "colorbar": {
             "outlinewidth": 0,
             "ticks": ""
            },
            "type": "choropleth"
           }
          ],
          "contour": [
           {
            "colorbar": {
             "outlinewidth": 0,
             "ticks": ""
            },
            "colorscale": [
             [
              0,
              "#0d0887"
             ],
             [
              0.1111111111111111,
              "#46039f"
             ],
             [
              0.2222222222222222,
              "#7201a8"
             ],
             [
              0.3333333333333333,
              "#9c179e"
             ],
             [
              0.4444444444444444,
              "#bd3786"
             ],
             [
              0.5555555555555556,
              "#d8576b"
             ],
             [
              0.6666666666666666,
              "#ed7953"
             ],
             [
              0.7777777777777778,
              "#fb9f3a"
             ],
             [
              0.8888888888888888,
              "#fdca26"
             ],
             [
              1,
              "#f0f921"
             ]
            ],
            "type": "contour"
           }
          ],
          "contourcarpet": [
           {
            "colorbar": {
             "outlinewidth": 0,
             "ticks": ""
            },
            "type": "contourcarpet"
           }
          ],
          "heatmap": [
           {
            "colorbar": {
             "outlinewidth": 0,
             "ticks": ""
            },
            "colorscale": [
             [
              0,
              "#0d0887"
             ],
             [
              0.1111111111111111,
              "#46039f"
             ],
             [
              0.2222222222222222,
              "#7201a8"
             ],
             [
              0.3333333333333333,
              "#9c179e"
             ],
             [
              0.4444444444444444,
              "#bd3786"
             ],
             [
              0.5555555555555556,
              "#d8576b"
             ],
             [
              0.6666666666666666,
              "#ed7953"
             ],
             [
              0.7777777777777778,
              "#fb9f3a"
             ],
             [
              0.8888888888888888,
              "#fdca26"
             ],
             [
              1,
              "#f0f921"
             ]
            ],
            "type": "heatmap"
           }
          ],
          "heatmapgl": [
           {
            "colorbar": {
             "outlinewidth": 0,
             "ticks": ""
            },
            "colorscale": [
             [
              0,
              "#0d0887"
             ],
             [
              0.1111111111111111,
              "#46039f"
             ],
             [
              0.2222222222222222,
              "#7201a8"
             ],
             [
              0.3333333333333333,
              "#9c179e"
             ],
             [
              0.4444444444444444,
              "#bd3786"
             ],
             [
              0.5555555555555556,
              "#d8576b"
             ],
             [
              0.6666666666666666,
              "#ed7953"
             ],
             [
              0.7777777777777778,
              "#fb9f3a"
             ],
             [
              0.8888888888888888,
              "#fdca26"
             ],
             [
              1,
              "#f0f921"
             ]
            ],
            "type": "heatmapgl"
           }
          ],
          "histogram": [
           {
            "marker": {
             "pattern": {
              "fillmode": "overlay",
              "size": 10,
              "solidity": 0.2
             }
            },
            "type": "histogram"
           }
          ],
          "histogram2d": [
           {
            "colorbar": {
             "outlinewidth": 0,
             "ticks": ""
            },
            "colorscale": [
             [
              0,
              "#0d0887"
             ],
             [
              0.1111111111111111,
              "#46039f"
             ],
             [
              0.2222222222222222,
              "#7201a8"
             ],
             [
              0.3333333333333333,
              "#9c179e"
             ],
             [
              0.4444444444444444,
              "#bd3786"
             ],
             [
              0.5555555555555556,
              "#d8576b"
             ],
             [
              0.6666666666666666,
              "#ed7953"
             ],
             [
              0.7777777777777778,
              "#fb9f3a"
             ],
             [
              0.8888888888888888,
              "#fdca26"
             ],
             [
              1,
              "#f0f921"
             ]
            ],
            "type": "histogram2d"
           }
          ],
          "histogram2dcontour": [
           {
            "colorbar": {
             "outlinewidth": 0,
             "ticks": ""
            },
            "colorscale": [
             [
              0,
              "#0d0887"
             ],
             [
              0.1111111111111111,
              "#46039f"
             ],
             [
              0.2222222222222222,
              "#7201a8"
             ],
             [
              0.3333333333333333,
              "#9c179e"
             ],
             [
              0.4444444444444444,
              "#bd3786"
             ],
             [
              0.5555555555555556,
              "#d8576b"
             ],
             [
              0.6666666666666666,
              "#ed7953"
             ],
             [
              0.7777777777777778,
              "#fb9f3a"
             ],
             [
              0.8888888888888888,
              "#fdca26"
             ],
             [
              1,
              "#f0f921"
             ]
            ],
            "type": "histogram2dcontour"
           }
          ],
          "mesh3d": [
           {
            "colorbar": {
             "outlinewidth": 0,
             "ticks": ""
            },
            "type": "mesh3d"
           }
          ],
          "parcoords": [
           {
            "line": {
             "colorbar": {
              "outlinewidth": 0,
              "ticks": ""
             }
            },
            "type": "parcoords"
           }
          ],
          "pie": [
           {
            "automargin": true,
            "type": "pie"
           }
          ],
          "scatter": [
           {
            "fillpattern": {
             "fillmode": "overlay",
             "size": 10,
             "solidity": 0.2
            },
            "type": "scatter"
           }
          ],
          "scatter3d": [
           {
            "line": {
             "colorbar": {
              "outlinewidth": 0,
              "ticks": ""
             }
            },
            "marker": {
             "colorbar": {
              "outlinewidth": 0,
              "ticks": ""
             }
            },
            "type": "scatter3d"
           }
          ],
          "scattercarpet": [
           {
            "marker": {
             "colorbar": {
              "outlinewidth": 0,
              "ticks": ""
             }
            },
            "type": "scattercarpet"
           }
          ],
          "scattergeo": [
           {
            "marker": {
             "colorbar": {
              "outlinewidth": 0,
              "ticks": ""
             }
            },
            "type": "scattergeo"
           }
          ],
          "scattergl": [
           {
            "marker": {
             "colorbar": {
              "outlinewidth": 0,
              "ticks": ""
             }
            },
            "type": "scattergl"
           }
          ],
          "scattermapbox": [
           {
            "marker": {
             "colorbar": {
              "outlinewidth": 0,
              "ticks": ""
             }
            },
            "type": "scattermapbox"
           }
          ],
          "scatterpolar": [
           {
            "marker": {
             "colorbar": {
              "outlinewidth": 0,
              "ticks": ""
             }
            },
            "type": "scatterpolar"
           }
          ],
          "scatterpolargl": [
           {
            "marker": {
             "colorbar": {
              "outlinewidth": 0,
              "ticks": ""
             }
            },
            "type": "scatterpolargl"
           }
          ],
          "scatterternary": [
           {
            "marker": {
             "colorbar": {
              "outlinewidth": 0,
              "ticks": ""
             }
            },
            "type": "scatterternary"
           }
          ],
          "surface": [
           {
            "colorbar": {
             "outlinewidth": 0,
             "ticks": ""
            },
            "colorscale": [
             [
              0,
              "#0d0887"
             ],
             [
              0.1111111111111111,
              "#46039f"
             ],
             [
              0.2222222222222222,
              "#7201a8"
             ],
             [
              0.3333333333333333,
              "#9c179e"
             ],
             [
              0.4444444444444444,
              "#bd3786"
             ],
             [
              0.5555555555555556,
              "#d8576b"
             ],
             [
              0.6666666666666666,
              "#ed7953"
             ],
             [
              0.7777777777777778,
              "#fb9f3a"
             ],
             [
              0.8888888888888888,
              "#fdca26"
             ],
             [
              1,
              "#f0f921"
             ]
            ],
            "type": "surface"
           }
          ],
          "table": [
           {
            "cells": {
             "fill": {
              "color": "#EBF0F8"
             },
             "line": {
              "color": "white"
             }
            },
            "header": {
             "fill": {
              "color": "#C8D4E3"
             },
             "line": {
              "color": "white"
             }
            },
            "type": "table"
           }
          ]
         },
         "layout": {
          "annotationdefaults": {
           "arrowcolor": "#2a3f5f",
           "arrowhead": 0,
           "arrowwidth": 1
          },
          "autotypenumbers": "strict",
          "coloraxis": {
           "colorbar": {
            "outlinewidth": 0,
            "ticks": ""
           }
          },
          "colorscale": {
           "diverging": [
            [
             0,
             "#8e0152"
            ],
            [
             0.1,
             "#c51b7d"
            ],
            [
             0.2,
             "#de77ae"
            ],
            [
             0.3,
             "#f1b6da"
            ],
            [
             0.4,
             "#fde0ef"
            ],
            [
             0.5,
             "#f7f7f7"
            ],
            [
             0.6,
             "#e6f5d0"
            ],
            [
             0.7,
             "#b8e186"
            ],
            [
             0.8,
             "#7fbc41"
            ],
            [
             0.9,
             "#4d9221"
            ],
            [
             1,
             "#276419"
            ]
           ],
           "sequential": [
            [
             0,
             "#0d0887"
            ],
            [
             0.1111111111111111,
             "#46039f"
            ],
            [
             0.2222222222222222,
             "#7201a8"
            ],
            [
             0.3333333333333333,
             "#9c179e"
            ],
            [
             0.4444444444444444,
             "#bd3786"
            ],
            [
             0.5555555555555556,
             "#d8576b"
            ],
            [
             0.6666666666666666,
             "#ed7953"
            ],
            [
             0.7777777777777778,
             "#fb9f3a"
            ],
            [
             0.8888888888888888,
             "#fdca26"
            ],
            [
             1,
             "#f0f921"
            ]
           ],
           "sequentialminus": [
            [
             0,
             "#0d0887"
            ],
            [
             0.1111111111111111,
             "#46039f"
            ],
            [
             0.2222222222222222,
             "#7201a8"
            ],
            [
             0.3333333333333333,
             "#9c179e"
            ],
            [
             0.4444444444444444,
             "#bd3786"
            ],
            [
             0.5555555555555556,
             "#d8576b"
            ],
            [
             0.6666666666666666,
             "#ed7953"
            ],
            [
             0.7777777777777778,
             "#fb9f3a"
            ],
            [
             0.8888888888888888,
             "#fdca26"
            ],
            [
             1,
             "#f0f921"
            ]
           ]
          },
          "colorway": [
           "#636efa",
           "#EF553B",
           "#00cc96",
           "#ab63fa",
           "#FFA15A",
           "#19d3f3",
           "#FF6692",
           "#B6E880",
           "#FF97FF",
           "#FECB52"
          ],
          "font": {
           "color": "#2a3f5f"
          },
          "geo": {
           "bgcolor": "white",
           "lakecolor": "white",
           "landcolor": "#E5ECF6",
           "showlakes": true,
           "showland": true,
           "subunitcolor": "white"
          },
          "hoverlabel": {
           "align": "left"
          },
          "hovermode": "closest",
          "mapbox": {
           "style": "light"
          },
          "paper_bgcolor": "white",
          "plot_bgcolor": "#E5ECF6",
          "polar": {
           "angularaxis": {
            "gridcolor": "white",
            "linecolor": "white",
            "ticks": ""
           },
           "bgcolor": "#E5ECF6",
           "radialaxis": {
            "gridcolor": "white",
            "linecolor": "white",
            "ticks": ""
           }
          },
          "scene": {
           "xaxis": {
            "backgroundcolor": "#E5ECF6",
            "gridcolor": "white",
            "gridwidth": 2,
            "linecolor": "white",
            "showbackground": true,
            "ticks": "",
            "zerolinecolor": "white"
           },
           "yaxis": {
            "backgroundcolor": "#E5ECF6",
            "gridcolor": "white",
            "gridwidth": 2,
            "linecolor": "white",
            "showbackground": true,
            "ticks": "",
            "zerolinecolor": "white"
           },
           "zaxis": {
            "backgroundcolor": "#E5ECF6",
            "gridcolor": "white",
            "gridwidth": 2,
            "linecolor": "white",
            "showbackground": true,
            "ticks": "",
            "zerolinecolor": "white"
           }
          },
          "shapedefaults": {
           "line": {
            "color": "#2a3f5f"
           }
          },
          "ternary": {
           "aaxis": {
            "gridcolor": "white",
            "linecolor": "white",
            "ticks": ""
           },
           "baxis": {
            "gridcolor": "white",
            "linecolor": "white",
            "ticks": ""
           },
           "bgcolor": "#E5ECF6",
           "caxis": {
            "gridcolor": "white",
            "linecolor": "white",
            "ticks": ""
           }
          },
          "title": {
           "x": 0.05
          },
          "xaxis": {
           "automargin": true,
           "gridcolor": "white",
           "linecolor": "white",
           "ticks": "",
           "title": {
            "standoff": 15
           },
           "zerolinecolor": "white",
           "zerolinewidth": 2
          },
          "yaxis": {
           "automargin": true,
           "gridcolor": "white",
           "linecolor": "white",
           "ticks": "",
           "title": {
            "standoff": 15
           },
           "zerolinecolor": "white",
           "zerolinewidth": 2
          }
         }
        },
        "title": {
         "text": "Simple Bar Plot"
        },
        "xaxis": {
         "anchor": "y",
         "autorange": true,
         "domain": [
          0,
          1
         ],
         "range": [
          -0.5,
          4.5
         ],
         "title": {
          "text": "Category"
         },
         "type": "category"
        },
        "yaxis": {
         "anchor": "x",
         "autorange": true,
         "domain": [
          0,
          1
         ],
         "range": [
          0,
          15.789473684210526
         ],
         "title": {
          "text": "Value"
         },
         "type": "linear"
        }
       }
      },
      "image/png": "[encoded data removed]",
      "text/html": [
       "<div>                            <div id=\"2dbd25c3-8fe0-46cb-8bd4-f62140dc1fa6\" class=\"plotly-graph-div\" style=\"height:525px; width:100%;\"></div>            <script type=\"text/javascript\">                require([\"plotly\"], function(Plotly) {                    window.PLOTLYENV=window.PLOTLYENV || {};                                    if (document.getElementById(\"2dbd25c3-8fe0-46cb-8bd4-f62140dc1fa6\")) {                    Plotly.newPlot(                        \"2dbd25c3-8fe0-46cb-8bd4-f62140dc1fa6\",                        [{\"alignmentgroup\":\"True\",\"hovertemplate\":\"Category=%{x}\\u003cbr\\u003eValue=%{y}\\u003cextra\\u003e\\u003c\\u002fextra\\u003e\",\"legendgroup\":\"\",\"marker\":{\"color\":\"#636efa\",\"pattern\":{\"shape\":\"\"}},\"name\":\"\",\"offsetgroup\":\"\",\"orientation\":\"v\",\"showlegend\":false,\"textposition\":\"auto\",\"x\":[\"A\",\"B\",\"C\",\"D\",\"E\"],\"xaxis\":\"x\",\"y\":[10,15,7,12,9],\"yaxis\":\"y\",\"type\":\"bar\"}],                        {\"template\":{\"data\":{\"histogram2dcontour\":[{\"type\":\"histogram2dcontour\",\"colorbar\":{\"outlinewidth\":0,\"ticks\":\"\"},\"colorscale\":[[0.0,\"#0d0887\"],[0.1111111111111111,\"#46039f\"],[0.2222222222222222,\"#7201a8\"],[0.3333333333333333,\"#9c179e\"],[0.4444444444444444,\"#bd3786\"],[0.5555555555555556,\"#d8576b\"],[0.6666666666666666,\"#ed7953\"],[0.7777777777777778,\"#fb9f3a\"],[0.8888888888888888,\"#fdca26\"],[1.0,\"#f0f921\"]]}],\"choropleth\":[{\"type\":\"choropleth\",\"colorbar\":{\"outlinewidth\":0,\"ticks\":\"\"}}],\"histogram2d\":[{\"type\":\"histogram2d\",\"colorbar\":{\"outlinewidth\":0,\"ticks\":\"\"},\"colorscale\":[[0.0,\"#0d0887\"],[0.1111111111111111,\"#46039f\"],[0.2222222222222222,\"#7201a8\"],[0.3333333333333333,\"#9c179e\"],[0.4444444444444444,\"#bd3786\"],[0.5555555555555556,\"#d8576b\"],[0.6666666666666666,\"#ed7953\"],[0.7777777777777778,\"#fb9f3a\"],[0.8888888888888888,\"#fdca26\"],[1.0,\"#f0f921\"]]}],\"heatmap\":[{\"type\":\"heatmap\",\"colorbar\":{\"outlinewidth\":0,\"ticks\":\"\"},\"colorscale\":[[0.0,\"#0d0887\"],[0.1111111111111111,\"#46039f\"],[0.2222222222222222,\"#7201a8\"],[0.3333333333333333,\"#9c179e\"],[0.4444444444444444,\"#bd3786\"],[0.5555555555555556,\"#d8576b\"],[0.6666666666666666,\"#ed7953\"],[0.7777777777777778,\"#fb9f3a\"],[0.8888888888888888,\"#fdca26\"],[1.0,\"#f0f921\"]]}],\"heatmapgl\":[{\"type\":\"heatmapgl\",\"colorbar\":{\"outlinewidth\":0,\"ticks\":\"\"},\"colorscale\":[[0.0,\"#0d0887\"],[0.1111111111111111,\"#46039f\"],[0.2222222222222222,\"#7201a8\"],[0.3333333333333333,\"#9c179e\"],[0.4444444444444444,\"#bd3786\"],[0.5555555555555556,\"#d8576b\"],[0.6666666666666666,\"#ed7953\"],[0.7777777777777778,\"#fb9f3a\"],[0.8888888888888888,\"#fdca26\"],[1.0,\"#f0f921\"]]}],\"contourcarpet\":[{\"type\":\"contourcarpet\",\"colorbar\":{\"outlinewidth\":0,\"ticks\":\"\"}}],\"contour\":[{\"type\":\"contour\",\"colorbar\":{\"outlinewidth\":0,\"ticks\":\"\"},\"colorscale\":[[0.0,\"#0d0887\"],[0.1111111111111111,\"#46039f\"],[0.2222222222222222,\"#7201a8\"],[0.3333333333333333,\"#9c179e\"],[0.4444444444444444,\"#bd3786\"],[0.5555555555555556,\"#d8576b\"],[0.6666666666666666,\"#ed7953\"],[0.7777777777777778,\"#fb9f3a\"],[0.8888888888888888,\"#fdca26\"],[1.0,\"#f0f921\"]]}],\"surface\":[{\"type\":\"surface\",\"colorbar\":{\"outlinewidth\":0,\"ticks\":\"\"},\"colorscale\":[[0.0,\"#0d0887\"],[0.1111111111111111,\"#46039f\"],[0.2222222222222222,\"#7201a8\"],[0.3333333333333333,\"#9c179e\"],[0.4444444444444444,\"#bd3786\"],[0.5555555555555556,\"#d8576b\"],[0.6666666666666666,\"#ed7953\"],[0.7777777777777778,\"#fb9f3a\"],[0.8888888888888888,\"#fdca26\"],[1.0,\"#f0f921\"]]}],\"mesh3d\":[{\"type\":\"mesh3d\",\"colorbar\":{\"outlinewidth\":0,\"ticks\":\"\"}}],\"scatter\":[{\"fillpattern\":{\"fillmode\":\"overlay\",\"size\":10,\"solidity\":0.2},\"type\":\"scatter\"}],\"parcoords\":[{\"type\":\"parcoords\",\"line\":{\"colorbar\":{\"outlinewidth\":0,\"ticks\":\"\"}}}],\"scatterpolargl\":[{\"type\":\"scatterpolargl\",\"marker\":{\"colorbar\":{\"outlinewidth\":0,\"ticks\":\"\"}}}],\"bar\":[{\"error_x\":{\"color\":\"#2a3f5f\"},\"error_y\":{\"color\":\"#2a3f5f\"},\"marker\":{\"line\":{\"color\":\"#E5ECF6\",\"width\":0.5},\"pattern\":{\"fillmode\":\"overlay\",\"size\":10,\"solidity\":0.2}},\"type\":\"bar\"}],\"scattergeo\":[{\"type\":\"scattergeo\",\"marker\":{\"colorbar\":{\"outlinewidth\":0,\"ticks\":\"\"}}}],\"scatterpolar\":[{\"type\":\"scatterpolar\",\"marker\":{\"colorbar\":{\"outlinewidth\":0,\"ticks\":\"\"}}}],\"histogram\":[{\"marker\":{\"pattern\":{\"fillmode\":\"overlay\",\"size\":10,\"solidity\":0.2}},\"type\":\"histogram\"}],\"scattergl\":[{\"type\":\"scattergl\",\"marker\":{\"colorbar\":{\"outlinewidth\":0,\"ticks\":\"\"}}}],\"scatter3d\":[{\"type\":\"scatter3d\",\"line\":{\"colorbar\":{\"outlinewidth\":0,\"ticks\":\"\"}},\"marker\":{\"colorbar\":{\"outlinewidth\":0,\"ticks\":\"\"}}}],\"scattermapbox\":[{\"type\":\"scattermapbox\",\"marker\":{\"colorbar\":{\"outlinewidth\":0,\"ticks\":\"\"}}}],\"scatterternary\":[{\"type\":\"scatterternary\",\"marker\":{\"colorbar\":{\"outlinewidth\":0,\"ticks\":\"\"}}}],\"scattercarpet\":[{\"type\":\"scattercarpet\",\"marker\":{\"colorbar\":{\"outlinewidth\":0,\"ticks\":\"\"}}}],\"carpet\":[{\"aaxis\":{\"endlinecolor\":\"#2a3f5f\",\"gridcolor\":\"white\",\"linecolor\":\"white\",\"minorgridcolor\":\"white\",\"startlinecolor\":\"#2a3f5f\"},\"baxis\":{\"endlinecolor\":\"#2a3f5f\",\"gridcolor\":\"white\",\"linecolor\":\"white\",\"minorgridcolor\":\"white\",\"startlinecolor\":\"#2a3f5f\"},\"type\":\"carpet\"}],\"table\":[{\"cells\":{\"fill\":{\"color\":\"#EBF0F8\"},\"line\":{\"color\":\"white\"}},\"header\":{\"fill\":{\"color\":\"#C8D4E3\"},\"line\":{\"color\":\"white\"}},\"type\":\"table\"}],\"barpolar\":[{\"marker\":{\"line\":{\"color\":\"#E5ECF6\",\"width\":0.5},\"pattern\":{\"fillmode\":\"overlay\",\"size\":10,\"solidity\":0.2}},\"type\":\"barpolar\"}],\"pie\":[{\"automargin\":true,\"type\":\"pie\"}]},\"layout\":{\"autotypenumbers\":\"strict\",\"colorway\":[\"#636efa\",\"#EF553B\",\"#00cc96\",\"#ab63fa\",\"#FFA15A\",\"#19d3f3\",\"#FF6692\",\"#B6E880\",\"#FF97FF\",\"#FECB52\"],\"font\":{\"color\":\"#2a3f5f\"},\"hovermode\":\"closest\",\"hoverlabel\":{\"align\":\"left\"},\"paper_bgcolor\":\"white\",\"plot_bgcolor\":\"#E5ECF6\",\"polar\":{\"bgcolor\":\"#E5ECF6\",\"angularaxis\":{\"gridcolor\":\"white\",\"linecolor\":\"white\",\"ticks\":\"\"},\"radialaxis\":{\"gridcolor\":\"white\",\"linecolor\":\"white\",\"ticks\":\"\"}},\"ternary\":{\"bgcolor\":\"#E5ECF6\",\"aaxis\":{\"gridcolor\":\"white\",\"linecolor\":\"white\",\"ticks\":\"\"},\"baxis\":{\"gridcolor\":\"white\",\"linecolor\":\"white\",\"ticks\":\"\"},\"caxis\":{\"gridcolor\":\"white\",\"linecolor\":\"white\",\"ticks\":\"\"}},\"coloraxis\":{\"colorbar\":{\"outlinewidth\":0,\"ticks\":\"\"}},\"colorscale\":{\"sequential\":[[0.0,\"#0d0887\"],[0.1111111111111111,\"#46039f\"],[0.2222222222222222,\"#7201a8\"],[0.3333333333333333,\"#9c179e\"],[0.4444444444444444,\"#bd3786\"],[0.5555555555555556,\"#d8576b\"],[0.6666666666666666,\"#ed7953\"],[0.7777777777777778,\"#fb9f3a\"],[0.8888888888888888,\"#fdca26\"],[1.0,\"#f0f921\"]],\"sequentialminus\":[[0.0,\"#0d0887\"],[0.1111111111111111,\"#46039f\"],[0.2222222222222222,\"#7201a8\"],[0.3333333333333333,\"#9c179e\"],[0.4444444444444444,\"#bd3786\"],[0.5555555555555556,\"#d8576b\"],[0.6666666666666666,\"#ed7953\"],[0.7777777777777778,\"#fb9f3a\"],[0.8888888888888888,\"#fdca26\"],[1.0,\"#f0f921\"]],\"diverging\":[[0,\"#8e0152\"],[0.1,\"#c51b7d\"],[0.2,\"#de77ae\"],[0.3,\"#f1b6da\"],[0.4,\"#fde0ef\"],[0.5,\"#f7f7f7\"],[0.6,\"#e6f5d0\"],[0.7,\"#b8e186\"],[0.8,\"#7fbc41\"],[0.9,\"#4d9221\"],[1,\"#276419\"]]},\"xaxis\":{\"gridcolor\":\"white\",\"linecolor\":\"white\",\"ticks\":\"\",\"title\":{\"standoff\":15},\"zerolinecolor\":\"white\",\"automargin\":true,\"zerolinewidth\":2},\"yaxis\":{\"gridcolor\":\"white\",\"linecolor\":\"white\",\"ticks\":\"\",\"title\":{\"standoff\":15},\"zerolinecolor\":\"white\",\"automargin\":true,\"zerolinewidth\":2},\"scene\":{\"xaxis\":{\"backgroundcolor\":\"#E5ECF6\",\"gridcolor\":\"white\",\"linecolor\":\"white\",\"showbackground\":true,\"ticks\":\"\",\"zerolinecolor\":\"white\",\"gridwidth\":2},\"yaxis\":{\"backgroundcolor\":\"#E5ECF6\",\"gridcolor\":\"white\",\"linecolor\":\"white\",\"showbackground\":true,\"ticks\":\"\",\"zerolinecolor\":\"white\",\"gridwidth\":2},\"zaxis\":{\"backgroundcolor\":\"#E5ECF6\",\"gridcolor\":\"white\",\"linecolor\":\"white\",\"showbackground\":true,\"ticks\":\"\",\"zerolinecolor\":\"white\",\"gridwidth\":2}},\"shapedefaults\":{\"line\":{\"color\":\"#2a3f5f\"}},\"annotationdefaults\":{\"arrowcolor\":\"#2a3f5f\",\"arrowhead\":0,\"arrowwidth\":1},\"geo\":{\"bgcolor\":\"white\",\"landcolor\":\"#E5ECF6\",\"subunitcolor\":\"white\",\"showland\":true,\"showlakes\":true,\"lakecolor\":\"white\"},\"title\":{\"x\":0.05},\"mapbox\":{\"style\":\"light\"}}},\"xaxis\":{\"anchor\":\"y\",\"domain\":[0.0,1.0],\"title\":{\"text\":\"Category\"}},\"yaxis\":{\"anchor\":\"x\",\"domain\":[0.0,1.0],\"title\":{\"text\":\"Value\"}},\"legend\":{\"tracegroupgap\":0},\"title\":{\"text\":\"Simple Bar Plot\"},\"barmode\":\"relative\"},                        {\"responsive\": true}                    ).then(function(){\n",
       "                            \n",
       "var gd = document.getElementById('2dbd25c3-8fe0-46cb-8bd4-f62140dc1fa6');\n",
       "var x = new MutationObserver(function (mutations, observer) {{\n",
       "        var display = window.getComputedStyle(gd).display;\n",
       "        if (!display || display === 'none') {{\n",
       "            console.log([gd, 'removed!']);\n",
       "            Plotly.purge(gd);\n",
       "            observer.disconnect();\n",
       "        }}\n",
       "}});\n",
       "\n",
       "// Listen for the removal of the full notebook cells\n",
       "var notebookContainer = gd.closest('#notebook-container');\n",
       "if (notebookContainer) {{\n",
       "    x.observe(notebookContainer, {childList: true});\n",
       "}}\n",
       "\n",
       "// Listen for the clearing of the current output cell\n",
       "var outputEl = gd.closest('.output');\n",
       "if (outputEl) {{\n",
       "    x.observe(outputEl, {childList: true});\n",
       "}}\n",
       "\n",
       "                        })                };                });            </script>        </div>"
      ]
     },
     "metadata": {},
     "output_type": "display_data"
    }
   ],
   "source": [
    "import plotly.express as px\n",
    "import pandas as pd\n",
    "\n",
    "# Prepare sample data in a Pandas DataFrame\n",
    "data = {'Category': ['A', 'B', 'C', 'D', 'E'],\n",
    "        'Value': [10, 15, 7, 12, 9]}\n",
    "\n",
    "df = pd.DataFrame(data)\n",
    "\n",
    "# Create a bar plot using Plotly Express\n",
    "fig = px.bar(df, x='Category', y='Value', title='Simple Bar Plot')\n",
    "\n",
    "# Display the plot\n",
    "fig.show()"
   ]
  },
  {
   "cell_type": "code",
   "execution_count": null,
   "id": "85c10ff5-b32b-43df-8902-f935bb747cb7",
   "metadata": {},
   "outputs": [],
   "source": [
    "28 A Create a DataFrame and add a new column based on an existing column"
   ]
  },
  {
   "cell_type": "code",
   "execution_count": 20,
   "id": "6b4c389c-0f5f-49ff-b123-5b198662115d",
   "metadata": {},
   "outputs": [
    {
     "name": "stdout",
     "output_type": "stream",
     "text": [
      "    A  B   C    D     E\n",
      "0  10  1  11   20   Low\n",
      "1  20  2  22   40   Low\n",
      "2  30  3  33   60   Low\n",
      "3  40  4  44   80  High\n",
      "4  50  5  55  100  High\n"
     ]
    }
   ],
   "source": [
    "import pandas as pd\n",
    "\n",
    "# Create a sample DataFrame\n",
    "data = {'A': [10, 20, 30, 40, 50],\n",
    "        'B': [1, 2, 3, 4, 5]}\n",
    "\n",
    "df = pd.DataFrame(data)\n",
    "\n",
    "# Add a new column 'C' which is the sum of columns 'A' and 'B'\n",
    "df['C'] = df['A'] + df['B']\n",
    "\n",
    "# Add another new column 'D' which is 'A' multiplied by 2\n",
    "df['D'] = df['A'] * 2\n",
    "\n",
    "# Add a new column 'E' based on a condition on column 'A'\n",
    "df['E'] = df['A'].apply(lambda x: 'High' if x > 30 else 'Low')\n",
    "\n",
    "# Print the DataFrame with the new columns\n",
    "print(df)"
   ]
  },
  {
   "cell_type": "code",
   "execution_count": null,
   "id": "f6082daf-7147-495c-bcd9-8a6698c76f83",
   "metadata": {},
   "outputs": [],
   "source": [
    "29 A Write a program to perform element-wise multiplication of two NumPy arraysA\n",
    "\n"
   ]
  },
  {
   "cell_type": "code",
   "execution_count": 21,
   "id": "9c0363da-b947-4e32-ad89-047e432b89db",
   "metadata": {},
   "outputs": [
    {
     "name": "stdout",
     "output_type": "stream",
     "text": [
      "Array 1: [1 2 3]\n",
      "Array 2: [4 5 6]\n",
      "\n",
      "Result using operator (*): [ 4 10 18]\n",
      "Result using numpy.multiply(): [ 4 10 18]\n"
     ]
    }
   ],
   "source": [
    "import numpy as np\n",
    "\n",
    "# Create two NumPy arrays of the same shape\n",
    "array1 = np.array([1, 2, 3])\n",
    "array2 = np.array([4, 5, 6])\n",
    "\n",
    "# Method 1: Using the multiplication operator (*)\n",
    "result_operator = array1 * array2\n",
    "\n",
    "# Method 2: Using numpy.multiply()\n",
    "result_multiply = np.multiply(array1, array2)\n",
    "\n",
    "# Print the results\n",
    "print(\"Array 1:\", array1)\n",
    "print(\"Array 2:\", array2)\n",
    "print(\"\\nResult using operator (*):\", result_operator)\n",
    "print(\"Result using numpy.multiply():\", result_multiply)"
   ]
  },
  {
   "cell_type": "code",
   "execution_count": null,
   "id": "bc116490-7955-445a-865c-4db4b4821e23",
   "metadata": {},
   "outputs": [],
   "source": [
    "30  Create a line plot with multiple lines using MatplotlibA"
   ]
  },
  {
   "cell_type": "code",
   "execution_count": 22,
   "id": "ddd5e900-57b3-4533-ba74-ee792d386ad0",
   "metadata": {},
   "outputs": [
    {
     "data": {
      "image/png": "[encoded data removed]",
      "text/plain": [
       "<Figure size 640x480 with 1 Axes>"
      ]
     },
     "metadata": {},
     "output_type": "display_data"
    }
   ],
   "source": [
    "import matplotlib.pyplot as plt\n",
    "import numpy as np\n",
    "\n",
    "# Prepare sample data for multiple lines\n",
    "x_data = np.array([1, 2, 3, 4, 5])\n",
    "y_data1 = np.array([10, 12, 15, 18, 20])\n",
    "y_data2 = np.array([5, 8, 11, 14, 17])\n",
    "y_data3 = np.array([15, 14, 13, 12, 11])\n",
    "\n",
    "# Create the first line\n",
    "plt.plot(x_data, y_data1, label='Line 1', marker='o')\n",
    "\n",
    "# Create the second line\n",
    "plt.plot(x_data, y_data2, label='Line 2', marker='x')\n",
    "\n",
    "# Create the third line\n",
    "plt.plot(x_data, y_data3, label='Line 3', marker='^')\n",
    "\n",
    "# Add labels, title, and a legend\n",
    "plt.xlabel(\"X-axis Label\")\n",
    "plt.ylabel(\"Y-axis Label\")\n",
    "plt.title(\"Line Plot with Multiple Lines\")\n",
    "plt.legend() # Display the legend\n",
    "\n",
    "# Display the plot\n",
    "plt.show()"
   ]
  },
  {
   "cell_type": "code",
   "execution_count": null,
   "id": "00ec5833-0e95-4a75-b9f7-d25203880464",
   "metadata": {},
   "outputs": [],
   "source": [
    "31 A Generate a Pandas DataFrame and filter rows where a column value is greater than a threshold"
   ]
  },
  {
   "cell_type": "code",
   "execution_count": null,
   "id": "496e429d-333a-4cd0-9dc5-135481f6ed35",
   "metadata": {},
   "outputs": [],
   "source": [
    "import pandas as pd\n",
    "\n",
    "# Create a sample DataFrame\n",
    "data = {'Name': ['Alice', 'Bob', 'Charlie', 'David', 'Eve'],\n",
    "        'Age': [25, 30, 22, 35, 28],\n",
    "        'Score': [85, 92, 78, 95, 88]}\n",
    "\n",
    "df = pd.DataFrame(data)\n",
    "\n",
    "# Define the threshold\n",
    "threshold = 30\n",
    "\n",
    "# Create a boolean Series based on the condition (Age > threshold)\n",
    "condition = df['Age'] > threshold\n",
    "\n",
    "# Filter the DataFrame using the boolean condition\n",
    "filtered_df = df[condition]\n",
    "\n",
    "# Print the original and filtered DataFrames\n",
    "print(\"Original DataFrame:\")\n",
    "print(df)\n",
    "print(f\"\\nFiltered DataFrame (Age > {threshold}):\")\n",
    "print(filtered_df)"
   ]
  },
  {
   "cell_type": "code",
   "execution_count": null,
   "id": "670880ef-52bb-40b1-a607-c84f1e318bc9",
   "metadata": {},
   "outputs": [],
   "source": []
  },
  {
   "cell_type": "code",
   "execution_count": 24,
   "id": "22607bba-ed57-4b97-9e5f-877e0d31accb",
   "metadata": {},
   "outputs": [
    {
     "ename": "TypeError",
     "evalue": "Data source must be a DataFrame or Mapping, not <class 'pandas.core.series.Series'>.",
     "output_type": "error",
     "traceback": [
      "\u001b[1;31m---------------------------------------------------------------------------\u001b[0m",
      "\u001b[1;31mTypeError\u001b[0m                                 Traceback (most recent call last)",
      "Cell \u001b[1;32mIn[24], line 12\u001b[0m\n\u001b[0;32m      9\u001b[0m data \u001b[38;5;241m=\u001b[39m pd\u001b[38;5;241m.\u001b[39mSeries(np\u001b[38;5;241m.\u001b[39mrandom\u001b[38;5;241m.\u001b[39mrandn(\u001b[38;5;241m1000\u001b[39m)) \u001b[38;5;66;03m# Generate 1000 random numbers\u001b[39;00m\n\u001b[0;32m     11\u001b[0m \u001b[38;5;66;03m# Create a histogram using Seaborn\u001b[39;00m\n\u001b[1;32m---> 12\u001b[0m sns\u001b[38;5;241m.\u001b[39mhistplot(data\u001b[38;5;241m=\u001b[39mdata, x\u001b[38;5;241m=\u001b[39mdata, bins\u001b[38;5;241m=\u001b[39m\u001b[38;5;241m30\u001b[39m, kde\u001b[38;5;241m=\u001b[39m\u001b[38;5;28;01mTrue\u001b[39;00m)\n\u001b[0;32m     14\u001b[0m \u001b[38;5;66;03m# Add labels and title\u001b[39;00m\n\u001b[0;32m     15\u001b[0m plt\u001b[38;5;241m.\u001b[39mxlabel(\u001b[38;5;124m\"\u001b[39m\u001b[38;5;124mValue\u001b[39m\u001b[38;5;124m\"\u001b[39m)\n",
      "File \u001b[1;32m~\\anaconda3\\Lib\\site-packages\\seaborn\\distributions.py:1379\u001b[0m, in \u001b[0;36mhistplot\u001b[1;34m(data, x, y, hue, weights, stat, bins, binwidth, binrange, discrete, cumulative, common_bins, common_norm, multiple, element, fill, shrink, kde, kde_kws, line_kws, thresh, pthresh, pmax, cbar, cbar_ax, cbar_kws, palette, hue_order, hue_norm, color, log_scale, legend, ax, **kwargs)\u001b[0m\n\u001b[0;32m   1358\u001b[0m \u001b[38;5;28;01mdef\u001b[39;00m \u001b[38;5;21mhistplot\u001b[39m(\n\u001b[0;32m   1359\u001b[0m     data\u001b[38;5;241m=\u001b[39m\u001b[38;5;28;01mNone\u001b[39;00m, \u001b[38;5;241m*\u001b[39m,\n\u001b[0;32m   1360\u001b[0m     \u001b[38;5;66;03m# Vector variables\u001b[39;00m\n\u001b[1;32m   (...)\u001b[0m\n\u001b[0;32m   1376\u001b[0m     \u001b[38;5;241m*\u001b[39m\u001b[38;5;241m*\u001b[39mkwargs,\n\u001b[0;32m   1377\u001b[0m ):\n\u001b[1;32m-> 1379\u001b[0m     p \u001b[38;5;241m=\u001b[39m _DistributionPlotter(\n\u001b[0;32m   1380\u001b[0m         data\u001b[38;5;241m=\u001b[39mdata,\n\u001b[0;32m   1381\u001b[0m         variables\u001b[38;5;241m=\u001b[39m\u001b[38;5;28mdict\u001b[39m(x\u001b[38;5;241m=\u001b[39mx, y\u001b[38;5;241m=\u001b[39my, hue\u001b[38;5;241m=\u001b[39mhue, weights\u001b[38;5;241m=\u001b[39mweights),\n\u001b[0;32m   1382\u001b[0m     )\n\u001b[0;32m   1384\u001b[0m     p\u001b[38;5;241m.\u001b[39mmap_hue(palette\u001b[38;5;241m=\u001b[39mpalette, order\u001b[38;5;241m=\u001b[39mhue_order, norm\u001b[38;5;241m=\u001b[39mhue_norm)\n\u001b[0;32m   1386\u001b[0m     \u001b[38;5;28;01mif\u001b[39;00m ax \u001b[38;5;129;01mis\u001b[39;00m \u001b[38;5;28;01mNone\u001b[39;00m:\n",
      "File \u001b[1;32m~\\anaconda3\\Lib\\site-packages\\seaborn\\distributions.py:110\u001b[0m, in \u001b[0;36m_DistributionPlotter.__init__\u001b[1;34m(self, data, variables)\u001b[0m\n\u001b[0;32m    104\u001b[0m \u001b[38;5;28;01mdef\u001b[39;00m \u001b[38;5;21m__init__\u001b[39m(\n\u001b[0;32m    105\u001b[0m     \u001b[38;5;28mself\u001b[39m,\n\u001b[0;32m    106\u001b[0m     data\u001b[38;5;241m=\u001b[39m\u001b[38;5;28;01mNone\u001b[39;00m,\n\u001b[0;32m    107\u001b[0m     variables\u001b[38;5;241m=\u001b[39m{},\n\u001b[0;32m    108\u001b[0m ):\n\u001b[1;32m--> 110\u001b[0m     \u001b[38;5;28msuper\u001b[39m()\u001b[38;5;241m.\u001b[39m\u001b[38;5;21m__init__\u001b[39m(data\u001b[38;5;241m=\u001b[39mdata, variables\u001b[38;5;241m=\u001b[39mvariables)\n",
      "File \u001b[1;32m~\\anaconda3\\Lib\\site-packages\\seaborn\\_base.py:634\u001b[0m, in \u001b[0;36mVectorPlotter.__init__\u001b[1;34m(self, data, variables)\u001b[0m\n\u001b[0;32m    629\u001b[0m \u001b[38;5;66;03m# var_ordered is relevant only for categorical axis variables, and may\u001b[39;00m\n\u001b[0;32m    630\u001b[0m \u001b[38;5;66;03m# be better handled by an internal axis information object that tracks\u001b[39;00m\n\u001b[0;32m    631\u001b[0m \u001b[38;5;66;03m# such information and is set up by the scale_* methods. The analogous\u001b[39;00m\n\u001b[0;32m    632\u001b[0m \u001b[38;5;66;03m# information for numeric axes would be information about log scales.\u001b[39;00m\n\u001b[0;32m    633\u001b[0m \u001b[38;5;28mself\u001b[39m\u001b[38;5;241m.\u001b[39m_var_ordered \u001b[38;5;241m=\u001b[39m {\u001b[38;5;124m\"\u001b[39m\u001b[38;5;124mx\u001b[39m\u001b[38;5;124m\"\u001b[39m: \u001b[38;5;28;01mFalse\u001b[39;00m, \u001b[38;5;124m\"\u001b[39m\u001b[38;5;124my\u001b[39m\u001b[38;5;124m\"\u001b[39m: \u001b[38;5;28;01mFalse\u001b[39;00m}  \u001b[38;5;66;03m# alt., used DefaultDict\u001b[39;00m\n\u001b[1;32m--> 634\u001b[0m \u001b[38;5;28mself\u001b[39m\u001b[38;5;241m.\u001b[39massign_variables(data, variables)\n\u001b[0;32m    636\u001b[0m \u001b[38;5;66;03m# TODO Lots of tests assume that these are called to initialize the\u001b[39;00m\n\u001b[0;32m    637\u001b[0m \u001b[38;5;66;03m# mappings to default values on class initialization. I'd prefer to\u001b[39;00m\n\u001b[0;32m    638\u001b[0m \u001b[38;5;66;03m# move away from that and only have a mapping when explicitly called.\u001b[39;00m\n\u001b[0;32m    639\u001b[0m \u001b[38;5;28;01mfor\u001b[39;00m var \u001b[38;5;129;01min\u001b[39;00m [\u001b[38;5;124m\"\u001b[39m\u001b[38;5;124mhue\u001b[39m\u001b[38;5;124m\"\u001b[39m, \u001b[38;5;124m\"\u001b[39m\u001b[38;5;124msize\u001b[39m\u001b[38;5;124m\"\u001b[39m, \u001b[38;5;124m\"\u001b[39m\u001b[38;5;124mstyle\u001b[39m\u001b[38;5;124m\"\u001b[39m]:\n",
      "File \u001b[1;32m~\\anaconda3\\Lib\\site-packages\\seaborn\\_base.py:679\u001b[0m, in \u001b[0;36mVectorPlotter.assign_variables\u001b[1;34m(self, data, variables)\u001b[0m\n\u001b[0;32m    674\u001b[0m \u001b[38;5;28;01melse\u001b[39;00m:\n\u001b[0;32m    675\u001b[0m     \u001b[38;5;66;03m# When dealing with long-form input, use the newer PlotData\u001b[39;00m\n\u001b[0;32m    676\u001b[0m     \u001b[38;5;66;03m# object (internal but introduced for the objects interface)\u001b[39;00m\n\u001b[0;32m    677\u001b[0m     \u001b[38;5;66;03m# to centralize / standardize data consumption logic.\u001b[39;00m\n\u001b[0;32m    678\u001b[0m     \u001b[38;5;28mself\u001b[39m\u001b[38;5;241m.\u001b[39minput_format \u001b[38;5;241m=\u001b[39m \u001b[38;5;124m\"\u001b[39m\u001b[38;5;124mlong\u001b[39m\u001b[38;5;124m\"\u001b[39m\n\u001b[1;32m--> 679\u001b[0m     plot_data \u001b[38;5;241m=\u001b[39m PlotData(data, variables)\n\u001b[0;32m    680\u001b[0m     frame \u001b[38;5;241m=\u001b[39m plot_data\u001b[38;5;241m.\u001b[39mframe\n\u001b[0;32m    681\u001b[0m     names \u001b[38;5;241m=\u001b[39m plot_data\u001b[38;5;241m.\u001b[39mnames\n",
      "File \u001b[1;32m~\\anaconda3\\Lib\\site-packages\\seaborn\\_core\\data.py:57\u001b[0m, in \u001b[0;36mPlotData.__init__\u001b[1;34m(self, data, variables)\u001b[0m\n\u001b[0;32m     51\u001b[0m \u001b[38;5;28;01mdef\u001b[39;00m \u001b[38;5;21m__init__\u001b[39m(\n\u001b[0;32m     52\u001b[0m     \u001b[38;5;28mself\u001b[39m,\n\u001b[0;32m     53\u001b[0m     data: DataSource,\n\u001b[0;32m     54\u001b[0m     variables: \u001b[38;5;28mdict\u001b[39m[\u001b[38;5;28mstr\u001b[39m, VariableSpec],\n\u001b[0;32m     55\u001b[0m ):\n\u001b[1;32m---> 57\u001b[0m     data \u001b[38;5;241m=\u001b[39m handle_data_source(data)\n\u001b[0;32m     58\u001b[0m     frame, names, ids \u001b[38;5;241m=\u001b[39m \u001b[38;5;28mself\u001b[39m\u001b[38;5;241m.\u001b[39m_assign_variables(data, variables)\n\u001b[0;32m     60\u001b[0m     \u001b[38;5;28mself\u001b[39m\u001b[38;5;241m.\u001b[39mframe \u001b[38;5;241m=\u001b[39m frame\n",
      "File \u001b[1;32m~\\anaconda3\\Lib\\site-packages\\seaborn\\_core\\data.py:278\u001b[0m, in \u001b[0;36mhandle_data_source\u001b[1;34m(data)\u001b[0m\n\u001b[0;32m    276\u001b[0m \u001b[38;5;28;01melif\u001b[39;00m data \u001b[38;5;129;01mis\u001b[39;00m \u001b[38;5;129;01mnot\u001b[39;00m \u001b[38;5;28;01mNone\u001b[39;00m \u001b[38;5;129;01mand\u001b[39;00m \u001b[38;5;129;01mnot\u001b[39;00m \u001b[38;5;28misinstance\u001b[39m(data, Mapping):\n\u001b[0;32m    277\u001b[0m     err \u001b[38;5;241m=\u001b[39m \u001b[38;5;124mf\u001b[39m\u001b[38;5;124m\"\u001b[39m\u001b[38;5;124mData source must be a DataFrame or Mapping, not \u001b[39m\u001b[38;5;132;01m{\u001b[39;00m\u001b[38;5;28mtype\u001b[39m(data)\u001b[38;5;132;01m!r}\u001b[39;00m\u001b[38;5;124m.\u001b[39m\u001b[38;5;124m\"\u001b[39m\n\u001b[1;32m--> 278\u001b[0m     \u001b[38;5;28;01mraise\u001b[39;00m \u001b[38;5;167;01mTypeError\u001b[39;00m(err)\n\u001b[0;32m    280\u001b[0m \u001b[38;5;28;01mreturn\u001b[39;00m data\n",
      "\u001b[1;31mTypeError\u001b[0m: Data source must be a DataFrame or Mapping, not <class 'pandas.core.series.Series'>."
     ]
    }
   ],
   "source": [
    " 32 Create a histogram using Seaborn to visualize a distribution\n"
   ]
  },
  {
   "cell_type": "code",
   "execution_count": 26,
   "id": "fbc7b131-5f04-474d-ba0f-15b20e08e17a",
   "metadata": {},
   "outputs": [
    {
     "ename": "TypeError",
     "evalue": "Data source must be a DataFrame or Mapping, not <class 'pandas.core.series.Series'>.",
     "output_type": "error",
     "traceback": [
      "\u001b[1;31m---------------------------------------------------------------------------\u001b[0m",
      "\u001b[1;31mTypeError\u001b[0m                                 Traceback (most recent call last)",
      "Cell \u001b[1;32mIn[26], line 10\u001b[0m\n\u001b[0;32m      7\u001b[0m data \u001b[38;5;241m=\u001b[39m pd\u001b[38;5;241m.\u001b[39mSeries(np\u001b[38;5;241m.\u001b[39mrandom\u001b[38;5;241m.\u001b[39mrandn(\u001b[38;5;241m1000\u001b[39m)) \u001b[38;5;66;03m# Generate 1000 random numbers\u001b[39;00m\n\u001b[0;32m      9\u001b[0m \u001b[38;5;66;03m# Create a histogram using Seaborn\u001b[39;00m\n\u001b[1;32m---> 10\u001b[0m sns\u001b[38;5;241m.\u001b[39mhistplot(data\u001b[38;5;241m=\u001b[39mdata, x\u001b[38;5;241m=\u001b[39mdata, bins\u001b[38;5;241m=\u001b[39m\u001b[38;5;241m30\u001b[39m, kde\u001b[38;5;241m=\u001b[39m\u001b[38;5;28;01mTrue\u001b[39;00m)\n\u001b[0;32m     12\u001b[0m \u001b[38;5;66;03m# Add labels and title\u001b[39;00m\n\u001b[0;32m     13\u001b[0m plt\u001b[38;5;241m.\u001b[39mxlabel(\u001b[38;5;124m\"\u001b[39m\u001b[38;5;124mValue\u001b[39m\u001b[38;5;124m\"\u001b[39m)\n",
      "File \u001b[1;32m~\\anaconda3\\Lib\\site-packages\\seaborn\\distributions.py:1379\u001b[0m, in \u001b[0;36mhistplot\u001b[1;34m(data, x, y, hue, weights, stat, bins, binwidth, binrange, discrete, cumulative, common_bins, common_norm, multiple, element, fill, shrink, kde, kde_kws, line_kws, thresh, pthresh, pmax, cbar, cbar_ax, cbar_kws, palette, hue_order, hue_norm, color, log_scale, legend, ax, **kwargs)\u001b[0m\n\u001b[0;32m   1358\u001b[0m \u001b[38;5;28;01mdef\u001b[39;00m \u001b[38;5;21mhistplot\u001b[39m(\n\u001b[0;32m   1359\u001b[0m     data\u001b[38;5;241m=\u001b[39m\u001b[38;5;28;01mNone\u001b[39;00m, \u001b[38;5;241m*\u001b[39m,\n\u001b[0;32m   1360\u001b[0m     \u001b[38;5;66;03m# Vector variables\u001b[39;00m\n\u001b[1;32m   (...)\u001b[0m\n\u001b[0;32m   1376\u001b[0m     \u001b[38;5;241m*\u001b[39m\u001b[38;5;241m*\u001b[39mkwargs,\n\u001b[0;32m   1377\u001b[0m ):\n\u001b[1;32m-> 1379\u001b[0m     p \u001b[38;5;241m=\u001b[39m _DistributionPlotter(\n\u001b[0;32m   1380\u001b[0m         data\u001b[38;5;241m=\u001b[39mdata,\n\u001b[0;32m   1381\u001b[0m         variables\u001b[38;5;241m=\u001b[39m\u001b[38;5;28mdict\u001b[39m(x\u001b[38;5;241m=\u001b[39mx, y\u001b[38;5;241m=\u001b[39my, hue\u001b[38;5;241m=\u001b[39mhue, weights\u001b[38;5;241m=\u001b[39mweights),\n\u001b[0;32m   1382\u001b[0m     )\n\u001b[0;32m   1384\u001b[0m     p\u001b[38;5;241m.\u001b[39mmap_hue(palette\u001b[38;5;241m=\u001b[39mpalette, order\u001b[38;5;241m=\u001b[39mhue_order, norm\u001b[38;5;241m=\u001b[39mhue_norm)\n\u001b[0;32m   1386\u001b[0m     \u001b[38;5;28;01mif\u001b[39;00m ax \u001b[38;5;129;01mis\u001b[39;00m \u001b[38;5;28;01mNone\u001b[39;00m:\n",
      "File \u001b[1;32m~\\anaconda3\\Lib\\site-packages\\seaborn\\distributions.py:110\u001b[0m, in \u001b[0;36m_DistributionPlotter.__init__\u001b[1;34m(self, data, variables)\u001b[0m\n\u001b[0;32m    104\u001b[0m \u001b[38;5;28;01mdef\u001b[39;00m \u001b[38;5;21m__init__\u001b[39m(\n\u001b[0;32m    105\u001b[0m     \u001b[38;5;28mself\u001b[39m,\n\u001b[0;32m    106\u001b[0m     data\u001b[38;5;241m=\u001b[39m\u001b[38;5;28;01mNone\u001b[39;00m,\n\u001b[0;32m    107\u001b[0m     variables\u001b[38;5;241m=\u001b[39m{},\n\u001b[0;32m    108\u001b[0m ):\n\u001b[1;32m--> 110\u001b[0m     \u001b[38;5;28msuper\u001b[39m()\u001b[38;5;241m.\u001b[39m\u001b[38;5;21m__init__\u001b[39m(data\u001b[38;5;241m=\u001b[39mdata, variables\u001b[38;5;241m=\u001b[39mvariables)\n",
      "File \u001b[1;32m~\\anaconda3\\Lib\\site-packages\\seaborn\\_base.py:634\u001b[0m, in \u001b[0;36mVectorPlotter.__init__\u001b[1;34m(self, data, variables)\u001b[0m\n\u001b[0;32m    629\u001b[0m \u001b[38;5;66;03m# var_ordered is relevant only for categorical axis variables, and may\u001b[39;00m\n\u001b[0;32m    630\u001b[0m \u001b[38;5;66;03m# be better handled by an internal axis information object that tracks\u001b[39;00m\n\u001b[0;32m    631\u001b[0m \u001b[38;5;66;03m# such information and is set up by the scale_* methods. The analogous\u001b[39;00m\n\u001b[0;32m    632\u001b[0m \u001b[38;5;66;03m# information for numeric axes would be information about log scales.\u001b[39;00m\n\u001b[0;32m    633\u001b[0m \u001b[38;5;28mself\u001b[39m\u001b[38;5;241m.\u001b[39m_var_ordered \u001b[38;5;241m=\u001b[39m {\u001b[38;5;124m\"\u001b[39m\u001b[38;5;124mx\u001b[39m\u001b[38;5;124m\"\u001b[39m: \u001b[38;5;28;01mFalse\u001b[39;00m, \u001b[38;5;124m\"\u001b[39m\u001b[38;5;124my\u001b[39m\u001b[38;5;124m\"\u001b[39m: \u001b[38;5;28;01mFalse\u001b[39;00m}  \u001b[38;5;66;03m# alt., used DefaultDict\u001b[39;00m\n\u001b[1;32m--> 634\u001b[0m \u001b[38;5;28mself\u001b[39m\u001b[38;5;241m.\u001b[39massign_variables(data, variables)\n\u001b[0;32m    636\u001b[0m \u001b[38;5;66;03m# TODO Lots of tests assume that these are called to initialize the\u001b[39;00m\n\u001b[0;32m    637\u001b[0m \u001b[38;5;66;03m# mappings to default values on class initialization. I'd prefer to\u001b[39;00m\n\u001b[0;32m    638\u001b[0m \u001b[38;5;66;03m# move away from that and only have a mapping when explicitly called.\u001b[39;00m\n\u001b[0;32m    639\u001b[0m \u001b[38;5;28;01mfor\u001b[39;00m var \u001b[38;5;129;01min\u001b[39;00m [\u001b[38;5;124m\"\u001b[39m\u001b[38;5;124mhue\u001b[39m\u001b[38;5;124m\"\u001b[39m, \u001b[38;5;124m\"\u001b[39m\u001b[38;5;124msize\u001b[39m\u001b[38;5;124m\"\u001b[39m, \u001b[38;5;124m\"\u001b[39m\u001b[38;5;124mstyle\u001b[39m\u001b[38;5;124m\"\u001b[39m]:\n",
      "File \u001b[1;32m~\\anaconda3\\Lib\\site-packages\\seaborn\\_base.py:679\u001b[0m, in \u001b[0;36mVectorPlotter.assign_variables\u001b[1;34m(self, data, variables)\u001b[0m\n\u001b[0;32m    674\u001b[0m \u001b[38;5;28;01melse\u001b[39;00m:\n\u001b[0;32m    675\u001b[0m     \u001b[38;5;66;03m# When dealing with long-form input, use the newer PlotData\u001b[39;00m\n\u001b[0;32m    676\u001b[0m     \u001b[38;5;66;03m# object (internal but introduced for the objects interface)\u001b[39;00m\n\u001b[0;32m    677\u001b[0m     \u001b[38;5;66;03m# to centralize / standardize data consumption logic.\u001b[39;00m\n\u001b[0;32m    678\u001b[0m     \u001b[38;5;28mself\u001b[39m\u001b[38;5;241m.\u001b[39minput_format \u001b[38;5;241m=\u001b[39m \u001b[38;5;124m\"\u001b[39m\u001b[38;5;124mlong\u001b[39m\u001b[38;5;124m\"\u001b[39m\n\u001b[1;32m--> 679\u001b[0m     plot_data \u001b[38;5;241m=\u001b[39m PlotData(data, variables)\n\u001b[0;32m    680\u001b[0m     frame \u001b[38;5;241m=\u001b[39m plot_data\u001b[38;5;241m.\u001b[39mframe\n\u001b[0;32m    681\u001b[0m     names \u001b[38;5;241m=\u001b[39m plot_data\u001b[38;5;241m.\u001b[39mnames\n",
      "File \u001b[1;32m~\\anaconda3\\Lib\\site-packages\\seaborn\\_core\\data.py:57\u001b[0m, in \u001b[0;36mPlotData.__init__\u001b[1;34m(self, data, variables)\u001b[0m\n\u001b[0;32m     51\u001b[0m \u001b[38;5;28;01mdef\u001b[39;00m \u001b[38;5;21m__init__\u001b[39m(\n\u001b[0;32m     52\u001b[0m     \u001b[38;5;28mself\u001b[39m,\n\u001b[0;32m     53\u001b[0m     data: DataSource,\n\u001b[0;32m     54\u001b[0m     variables: \u001b[38;5;28mdict\u001b[39m[\u001b[38;5;28mstr\u001b[39m, VariableSpec],\n\u001b[0;32m     55\u001b[0m ):\n\u001b[1;32m---> 57\u001b[0m     data \u001b[38;5;241m=\u001b[39m handle_data_source(data)\n\u001b[0;32m     58\u001b[0m     frame, names, ids \u001b[38;5;241m=\u001b[39m \u001b[38;5;28mself\u001b[39m\u001b[38;5;241m.\u001b[39m_assign_variables(data, variables)\n\u001b[0;32m     60\u001b[0m     \u001b[38;5;28mself\u001b[39m\u001b[38;5;241m.\u001b[39mframe \u001b[38;5;241m=\u001b[39m frame\n",
      "File \u001b[1;32m~\\anaconda3\\Lib\\site-packages\\seaborn\\_core\\data.py:278\u001b[0m, in \u001b[0;36mhandle_data_source\u001b[1;34m(data)\u001b[0m\n\u001b[0;32m    276\u001b[0m \u001b[38;5;28;01melif\u001b[39;00m data \u001b[38;5;129;01mis\u001b[39;00m \u001b[38;5;129;01mnot\u001b[39;00m \u001b[38;5;28;01mNone\u001b[39;00m \u001b[38;5;129;01mand\u001b[39;00m \u001b[38;5;129;01mnot\u001b[39;00m \u001b[38;5;28misinstance\u001b[39m(data, Mapping):\n\u001b[0;32m    277\u001b[0m     err \u001b[38;5;241m=\u001b[39m \u001b[38;5;124mf\u001b[39m\u001b[38;5;124m\"\u001b[39m\u001b[38;5;124mData source must be a DataFrame or Mapping, not \u001b[39m\u001b[38;5;132;01m{\u001b[39;00m\u001b[38;5;28mtype\u001b[39m(data)\u001b[38;5;132;01m!r}\u001b[39;00m\u001b[38;5;124m.\u001b[39m\u001b[38;5;124m\"\u001b[39m\n\u001b[1;32m--> 278\u001b[0m     \u001b[38;5;28;01mraise\u001b[39;00m \u001b[38;5;167;01mTypeError\u001b[39;00m(err)\n\u001b[0;32m    280\u001b[0m \u001b[38;5;28;01mreturn\u001b[39;00m data\n",
      "\u001b[1;31mTypeError\u001b[0m: Data source must be a DataFrame or Mapping, not <class 'pandas.core.series.Series'>."
     ]
    }
   ],
   "source": [
    "import seaborn as sns\n",
    "import matplotlib.pyplot as plt\n",
    "import pandas as pd\n",
    "import numpy as np\n",
    "\n",
    "# Create a sample Series of numerical data\n",
    "data = pd.Series(np.random.randn(1000)) # Generate 1000 random numbers\n",
    "\n",
    "# Create a histogram using Seaborn\n",
    "sns.histplot(data=data, x=data, bins=30, kde=True)\n",
    "\n",
    "# Add labels and title\n",
    "plt.xlabel(\"Value\")\n",
    "plt.ylabel(\"Frequency\")\n",
    "plt.title(\"Distribution of Values\")\n",
    "\n",
    "# Display the plot\n",
    "plt.show() "
   ]
  },
  {
   "cell_type": "code",
   "execution_count": null,
   "id": "82e7aeca-7a77-4842-9b0a-0fe2bda41c99",
   "metadata": {},
   "outputs": [],
   "source": [
    "33 A Perform matrix multiplication using NumPy"
   ]
  },
  {
   "cell_type": "code",
   "execution_count": 29,
   "id": "65dc36a2-7c3e-43f9-bac4-99fb200c71d6",
   "metadata": {},
   "outputs": [
    {
     "ename": "IndentationError",
     "evalue": "unexpected indent (575126793.py, line 4)",
     "output_type": "error",
     "traceback": [
      "\u001b[1;36m  Cell \u001b[1;32mIn[29], line 4\u001b[1;36m\u001b[0m\n\u001b[1;33m    matrix1 = np.array([[1, 2]\u001b[0m\n\u001b[1;37m    ^\u001b[0m\n\u001b[1;31mIndentationError\u001b[0m\u001b[1;31m:\u001b[0m unexpected indent\n"
     ]
    }
   ],
   "source": [
    "import numpy as np\n",
    "\n",
    "    # Create two matrices (2D NumPy arrays)\n",
    "    matrix1 = np.array([[1, 2]\n",
    "                        [3, 4]])\n",
    "    matrix2 = np.array([[5, 6]\n",
    "                        [7, 8]])\n",
    "\n",
    "    # Perform matrix multiplication using the @ operator\n",
    "    result_at = matrix1 @ matrix2\n",
    "\n",
    "    print(\"Matrix 1:\")\n",
    "    print(matrix1)\n",
    "    print(\"\\nMatrix 2:\")\n",
    "    print(matrix2)\n",
    "    print(\"\\nResult using @ operator:\")\n",
    "    print(result_at)"
   ]
  },
  {
   "cell_type": "code",
   "execution_count": null,
   "id": "6d8c1753-5ec8-41c3-a6e9-9188dd6d0a81",
   "metadata": {},
   "outputs": [],
   "source": [
    "34  Use Pandas to load a CSV file and display its first 5 rowsA"
   ]
  },
  {
   "cell_type": "code",
   "execution_count": null,
   "id": "96967557-9a06-4c9a-8c5e-8e54ca6af04b",
   "metadata": {},
   "outputs": [],
   "source": [
    "import pandas as pd\n",
    "\n",
    "# Assuming you have a CSV file named 'my_data.csv'\n",
    "# You might need to upload the file to your Colab environment first\n",
    "# or provide a URL to a publicly accessible CSV file.\n",
    "\n",
    "# Example of creating a dummy CSV file for demonstration in Colab\n",
    "# You can replace this with loading your actual file\n",
    "data = {'col1': [1, 2, 3, 4, 5, 6, 7, 8, 9, 10],\n",
    "        'col2': ['A', 'B', 'C', 'D', 'E', 'F', 'G', 'H', 'I', 'J']}\n",
    "dummy_df = pd.DataFrame(data)\n",
    "dummy_df.to_csv('my_data.csv', index=False)\n",
    "\n",
    "# Load the CSV file into a Pandas DataFrame\n",
    "try:\n",
    "    df = pd.read_csv('my_data.csv')\n",
    "\n",
    "    # Display the first 5 rows of the DataFrame\n",
    "    print(\"First 5 rows of the DataFrame:\")\n",
    "    print(df.head())\n",
    "\n",
    "except FileNotFoundError:\n",
    "    print(\"Error: 'my_data.csv' not found. Please make sure the file is in the correct location or provide the correct path/URL.\")"
   ]
  },
  {
   "cell_type": "code",
   "execution_count": null,
   "id": "66ae0127-8133-4f93-ae79-c1ce6cf29691",
   "metadata": {},
   "outputs": [],
   "source": [
    "35 Create a 3D scatter plot using Plotly "
   ]
  },
  {
   "cell_type": "code",
   "execution_count": 30,
   "id": "32da4b22-8c09-4b45-9e19-9b7ef2c367c7",
   "metadata": {},
   "outputs": [
    {
     "data": {
      "application/vnd.plotly.v1+json": {
       "config": {
        "plotlyServerURL": "https://plot.ly"
       },
       "data": [
        {
         "marker": {
          "color": [
           0.6420316461542878,
           0.08413996499504883,
           0.16162871409461377,
           0.8985541885270792,
           0.6064290596595899,
           0.009197051616629648,
           0.1014715428660321,
           0.6635017691080558,
           0.005061583846218687,
           0.16080805141749865,
           0.5487337893665861,
           0.6918951976926933,
           0.6519612595026005,
           0.22426930946055978,
           0.7121792213475359,
           0.23724908749680007,
           0.3253996981592677,
           0.7464914051180241,
           0.6496328990472147,
           0.8492234104941779,
           0.6576128923003434,
           0.5683086033354716,
           0.09367476782809248,
           0.3677158030594335,
           0.26520236768172545,
           0.24398964337908358,
           0.9730105547524456,
           0.3930977246667604,
           0.8920465551771133,
           0.6311386259972629,
           0.7948113035416484,
           0.5026370931051921,
           0.5769038846263591,
           0.4925176938188639,
           0.1952429877980445,
           0.7224521152615053,
           0.2807723624408558,
           0.02431596643145384,
           0.6454722959071678,
           0.17711067940704894,
           0.9404585843529143,
           0.9539285770025874,
           0.9148643902204485,
           0.3701587002554444,
           0.015456616528867428,
           0.9283185625877254,
           0.42818414831731433,
           0.9666548190436696,
           0.9636199770892528,
           0.8530094554673601,
           0.2944488920695857,
           0.38509772860192526,
           0.8511366715168569,
           0.31692200515627766,
           0.1694927466860925,
           0.5568012624583502,
           0.936154774160781,
           0.696029796674973,
           0.570061170089365,
           0.09717649377076854,
           0.6150072266991697,
           0.9900538501042633,
           0.14008401523652403,
           0.5183296523637367,
           0.8773730719279554,
           0.7407686177542044,
           0.697015740995268,
           0.7024840839871093,
           0.35949115121975517,
           0.29359184426449336,
           0.8093611554785136,
           0.8101133946791808,
           0.8670723185801037,
           0.9132405525564713,
           0.5113423988609378,
           0.5015162946871996,
           0.7982951789667752,
           0.6499639307777652,
           0.7019668772577033,
           0.795792669436101,
           0.8900053418175663,
           0.3379951568515358,
           0.375582952639944,
           0.093981939840869,
           0.578280140996174,
           0.035942273796742086,
           0.46559801813246016,
           0.5426446347075766,
           0.2865412521282844,
           0.5908332605690108,
           0.03050024993904943,
           0.03734818874921442,
           0.8226005606596583,
           0.3601906414112629,
           0.12706051265188478,
           0.5222432600548044,
           0.7699935530986108,
           0.21582102749684318,
           0.6228904758190003,
           0.085347464993768
          ],
          "colorscale": [
           [
            0,
            "#440154"
           ],
           [
            0.1111111111111111,
            "#482878"
           ],
           [
            0.2222222222222222,
            "#3e4989"
           ],
           [
            0.3333333333333333,
            "#31688e"
           ],
           [
            0.4444444444444444,
            "#26828e"
           ],
           [
            0.5555555555555556,
            "#1f9e89"
           ],
           [
            0.6666666666666666,
            "#35b779"
           ],
           [
            0.7777777777777778,
            "#6ece58"
           ],
           [
            0.8888888888888888,
            "#b5de2b"
           ],
           [
            1,
            "#fde725"
           ]
          ],
          "opacity": 0.8,
          "size": 5
         },
         "mode": "markers",
         "type": "scatter3d",
         "x": [
          0.3745401188473625,
          0.9507143064099162,
          0.7319939418114051,
          0.5986584841970366,
          0.15601864044243652,
          0.15599452033620265,
          0.05808361216819946,
          0.8661761457749352,
          0.6011150117432088,
          0.7080725777960455,
          0.020584494295802447,
          0.9699098521619943,
          0.8324426408004217,
          0.21233911067827616,
          0.18182496720710062,
          0.18340450985343382,
          0.3042422429595377,
          0.5247564316322378,
          0.43194501864211576,
          0.2912291401980419,
          0.6118528947223795,
          0.13949386065204183,
          0.29214464853521815,
          0.3663618432936917,
          0.45606998421703593,
          0.7851759613930136,
          0.19967378215835974,
          0.5142344384136116,
          0.5924145688620425,
          0.046450412719997725,
          0.6075448519014384,
          0.17052412368729153,
          0.06505159298527952,
          0.9488855372533332,
          0.9656320330745594,
          0.8083973481164611,
          0.3046137691733707,
          0.09767211400638387,
          0.6842330265121569,
          0.4401524937396013,
          0.12203823484477883,
          0.4951769101112702,
          0.034388521115218396,
          0.9093204020787821,
          0.2587799816000169,
          0.662522284353982,
          0.31171107608941095,
          0.5200680211778108,
          0.5467102793432796,
          0.18485445552552704,
          0.9695846277645586,
          0.7751328233611146,
          0.9394989415641891,
          0.8948273504276488,
          0.5978999788110851,
          0.9218742350231168,
          0.0884925020519195,
          0.1959828624191452,
          0.045227288910538066,
          0.32533033076326434,
          0.388677289689482,
          0.2713490317738959,
          0.8287375091519293,
          0.3567533266935893,
          0.28093450968738076,
          0.5426960831582485,
          0.14092422497476265,
          0.8021969807540397,
          0.07455064367977082,
          0.9868869366005173,
          0.7722447692966574,
          0.1987156815341724,
          0.005522117123602399,
          0.8154614284548342,
          0.7068573438476171,
          0.7290071680409873,
          0.7712703466859457,
          0.07404465173409036,
          0.3584657285442726,
          0.11586905952512971,
          0.8631034258755935,
          0.6232981268275579,
          0.3308980248526492,
          0.06355835028602363,
          0.3109823217156622,
          0.32518332202674705,
          0.7296061783380641,
          0.6375574713552131,
          0.8872127425763265,
          0.4722149251619493,
          0.1195942459383017,
          0.713244787222995,
          0.7607850486168974,
          0.5612771975694962,
          0.770967179954561,
          0.49379559636439074,
          0.5227328293819941,
          0.42754101835854963,
          0.02541912674409519,
          0.10789142699330445
         ],
         "y": [
          0.03142918568673425,
          0.6364104112637804,
          0.3143559810763267,
          0.5085706911647028,
          0.907566473926093,
          0.24929222914887494,
          0.41038292303562973,
          0.7555511385430487,
          0.22879816549162246,
          0.07697990982879299,
          0.289751452913768,
          0.16122128725400442,
          0.9296976523425731,
          0.808120379564417,
          0.6334037565104235,
          0.8714605901877177,
          0.8036720768991145,
          0.18657005888603584,
          0.8925589984899778,
          0.5393422419156507,
          0.8074401551640625,
          0.8960912999234932,
          0.3180034749718639,
          0.11005192452767676,
          0.22793516254194168,
          0.4271077886262563,
          0.8180147659224931,
          0.8607305832563434,
          0.006952130531190703,
          0.5107473025775657,
          0.417411003148779,
          0.22210781047073025,
          0.1198653673336828,
          0.33761517140362796,
          0.9429097039125192,
          0.32320293202075523,
          0.5187906217433661,
          0.7030189588951778,
          0.363629602379294,
          0.9717820827209607,
          0.9624472949421112,
          0.25178229582536416,
          0.49724850589238545,
          0.30087830981676966,
          0.2848404943774676,
          0.036886947354532795,
          0.6095643339798968,
          0.5026790232288615,
          0.05147875124998935,
          0.27864646423661144,
          0.9082658859666537,
          0.23956189066697242,
          0.1448948720912231,
          0.489452760277563,
          0.9856504541106007,
          0.2420552715115004,
          0.6721355474058786,
          0.7616196153287176,
          0.23763754399239967,
          0.7282163486118596,
          0.3677831327192532,
          0.6323058305935795,
          0.6335297107608947,
          0.5357746840747585,
          0.0902897700544083,
          0.835302495589238,
          0.32078006497173583,
          0.18651851039985423,
          0.040775141554763916,
          0.5908929431882418,
          0.6775643618422824,
          0.016587828927856152,
          0.512093058299281,
          0.22649577519793795,
          0.6451727904094499,
          0.17436642900499144,
          0.690937738102466,
          0.3867353463005374,
          0.9367299887367345,
          0.13752094414599325,
          0.3410663510502585,
          0.11347352124058907,
          0.9246936182785628,
          0.877339353380981,
          0.2579416277151556,
          0.659984046034179,
          0.8172222002012158,
          0.5552008115994623,
          0.5296505783560065,
          0.24185229090045168,
          0.09310276780589921,
          0.8972157579533268,
          0.9004180571633305,
          0.6331014572732679,
          0.3390297910487007,
          0.3492095746126609,
          0.7259556788702394,
          0.8971102599525771,
          0.8870864242651173,
          0.7798755458576239
         ],
         "z": [
          0.6420316461542878,
          0.08413996499504883,
          0.16162871409461377,
          0.8985541885270792,
          0.6064290596595899,
          0.009197051616629648,
          0.1014715428660321,
          0.6635017691080558,
          0.005061583846218687,
          0.16080805141749865,
          0.5487337893665861,
          0.6918951976926933,
          0.6519612595026005,
          0.22426930946055978,
          0.7121792213475359,
          0.23724908749680007,
          0.3253996981592677,
          0.7464914051180241,
          0.6496328990472147,
          0.8492234104941779,
          0.6576128923003434,
          0.5683086033354716,
          0.09367476782809248,
          0.3677158030594335,
          0.26520236768172545,
          0.24398964337908358,
          0.9730105547524456,
          0.3930977246667604,
          0.8920465551771133,
          0.6311386259972629,
          0.7948113035416484,
          0.5026370931051921,
          0.5769038846263591,
          0.4925176938188639,
          0.1952429877980445,
          0.7224521152615053,
          0.2807723624408558,
          0.02431596643145384,
          0.6454722959071678,
          0.17711067940704894,
          0.9404585843529143,
          0.9539285770025874,
          0.9148643902204485,
          0.3701587002554444,
          0.015456616528867428,
          0.9283185625877254,
          0.42818414831731433,
          0.9666548190436696,
          0.9636199770892528,
          0.8530094554673601,
          0.2944488920695857,
          0.38509772860192526,
          0.8511366715168569,
          0.31692200515627766,
          0.1694927466860925,
          0.5568012624583502,
          0.936154774160781,
          0.696029796674973,
          0.570061170089365,
          0.09717649377076854,
          0.6150072266991697,
          0.9900538501042633,
          0.14008401523652403,
          0.5183296523637367,
          0.8773730719279554,
          0.7407686177542044,
          0.697015740995268,
          0.7024840839871093,
          0.35949115121975517,
          0.29359184426449336,
          0.8093611554785136,
          0.8101133946791808,
          0.8670723185801037,
          0.9132405525564713,
          0.5113423988609378,
          0.5015162946871996,
          0.7982951789667752,
          0.6499639307777652,
          0.7019668772577033,
          0.795792669436101,
          0.8900053418175663,
          0.3379951568515358,
          0.375582952639944,
          0.093981939840869,
          0.578280140996174,
          0.035942273796742086,
          0.46559801813246016,
          0.5426446347075766,
          0.2865412521282844,
          0.5908332605690108,
          0.03050024993904943,
          0.03734818874921442,
          0.8226005606596583,
          0.3601906414112629,
          0.12706051265188478,
          0.5222432600548044,
          0.7699935530986108,
          0.21582102749684318,
          0.6228904758190003,
          0.085347464993768
         ]
        }
       ],
       "layout": {
        "autosize": true,
        "margin": {
         "b": 0,
         "l": 0,
         "r": 0,
         "t": 40
        },
        "scene": {
         "aspectmode": "auto",
         "aspectratio": {
          "x": 0.99967715689507,
          "y": 0.9969609039942264,
          "z": 1.0033722920914598
         },
         "camera": {
          "center": {
           "x": 0,
           "y": 0,
           "z": 0
          },
          "eye": {
           "x": 0.9505025746865584,
           "y": 0.9505025746865602,
           "z": 0.9505025746865611
          },
          "projection": {
           "type": "perspective"
          },
          "up": {
           "x": 0.03969774290055387,
           "y": -0.03817978733001598,
           "z": 0.9984820444294611
          }
         },
         "xaxis": {
          "title": {
           "text": "X Axis"
          },
          "type": "linear"
         },
         "yaxis": {
          "title": {
           "text": "Y Axis"
          },
          "type": "linear"
         },
         "zaxis": {
          "title": {
           "text": "Z Axis"
          },
          "type": "linear"
         }
        },
        "template": {
         "data": {
          "bar": [
           {
            "error_x": {
             "color": "#2a3f5f"
            },
            "error_y": {
             "color": "#2a3f5f"
            },
            "marker": {
             "line": {
              "color": "#E5ECF6",
              "width": 0.5
             },
             "pattern": {
              "fillmode": "overlay",
              "size": 10,
              "solidity": 0.2
             }
            },
            "type": "bar"
           }
          ],
          "barpolar": [
           {
            "marker": {
             "line": {
              "color": "#E5ECF6",
              "width": 0.5
             },
             "pattern": {
              "fillmode": "overlay",
              "size": 10,
              "solidity": 0.2
             }
            },
            "type": "barpolar"
           }
          ],
          "carpet": [
           {
            "aaxis": {
             "endlinecolor": "#2a3f5f",
             "gridcolor": "white",
             "linecolor": "white",
             "minorgridcolor": "white",
             "startlinecolor": "#2a3f5f"
            },
            "baxis": {
             "endlinecolor": "#2a3f5f",
             "gridcolor": "white",
             "linecolor": "white",
             "minorgridcolor": "white",
             "startlinecolor": "#2a3f5f"
            },
            "type": "carpet"
           }
          ],
          "choropleth": [
           {
            "colorbar": {
             "outlinewidth": 0,
             "ticks": ""
            },
            "type": "choropleth"
           }
          ],
          "contour": [
           {
            "colorbar": {
             "outlinewidth": 0,
             "ticks": ""
            },
            "colorscale": [
             [
              0,
              "#0d0887"
             ],
             [
              0.1111111111111111,
              "#46039f"
             ],
             [
              0.2222222222222222,
              "#7201a8"
             ],
             [
              0.3333333333333333,
              "#9c179e"
             ],
             [
              0.4444444444444444,
              "#bd3786"
             ],
             [
              0.5555555555555556,
              "#d8576b"
             ],
             [
              0.6666666666666666,
              "#ed7953"
             ],
             [
              0.7777777777777778,
              "#fb9f3a"
             ],
             [
              0.8888888888888888,
              "#fdca26"
             ],
             [
              1,
              "#f0f921"
             ]
            ],
            "type": "contour"
           }
          ],
          "contourcarpet": [
           {
            "colorbar": {
             "outlinewidth": 0,
             "ticks": ""
            },
            "type": "contourcarpet"
           }
          ],
          "heatmap": [
           {
            "colorbar": {
             "outlinewidth": 0,
             "ticks": ""
            },
            "colorscale": [
             [
              0,
              "#0d0887"
             ],
             [
              0.1111111111111111,
              "#46039f"
             ],
             [
              0.2222222222222222,
              "#7201a8"
             ],
             [
              0.3333333333333333,
              "#9c179e"
             ],
             [
              0.4444444444444444,
              "#bd3786"
             ],
             [
              0.5555555555555556,
              "#d8576b"
             ],
             [
              0.6666666666666666,
              "#ed7953"
             ],
             [
              0.7777777777777778,
              "#fb9f3a"
             ],
             [
              0.8888888888888888,
              "#fdca26"
             ],
             [
              1,
              "#f0f921"
             ]
            ],
            "type": "heatmap"
           }
          ],
          "heatmapgl": [
           {
            "colorbar": {
             "outlinewidth": 0,
             "ticks": ""
            },
            "colorscale": [
             [
              0,
              "#0d0887"
             ],
             [
              0.1111111111111111,
              "#46039f"
             ],
             [
              0.2222222222222222,
              "#7201a8"
             ],
             [
              0.3333333333333333,
              "#9c179e"
             ],
             [
              0.4444444444444444,
              "#bd3786"
             ],
             [
              0.5555555555555556,
              "#d8576b"
             ],
             [
              0.6666666666666666,
              "#ed7953"
             ],
             [
              0.7777777777777778,
              "#fb9f3a"
             ],
             [
              0.8888888888888888,
              "#fdca26"
             ],
             [
              1,
              "#f0f921"
             ]
            ],
            "type": "heatmapgl"
           }
          ],
          "histogram": [
           {
            "marker": {
             "pattern": {
              "fillmode": "overlay",
              "size": 10,
              "solidity": 0.2
             }
            },
            "type": "histogram"
           }
          ],
          "histogram2d": [
           {
            "colorbar": {
             "outlinewidth": 0,
             "ticks": ""
            },
            "colorscale": [
             [
              0,
              "#0d0887"
             ],
             [
              0.1111111111111111,
              "#46039f"
             ],
             [
              0.2222222222222222,
              "#7201a8"
             ],
             [
              0.3333333333333333,
              "#9c179e"
             ],
             [
              0.4444444444444444,
              "#bd3786"
             ],
             [
              0.5555555555555556,
              "#d8576b"
             ],
             [
              0.6666666666666666,
              "#ed7953"
             ],
             [
              0.7777777777777778,
              "#fb9f3a"
             ],
             [
              0.8888888888888888,
              "#fdca26"
             ],
             [
              1,
              "#f0f921"
             ]
            ],
            "type": "histogram2d"
           }
          ],
          "histogram2dcontour": [
           {
            "colorbar": {
             "outlinewidth": 0,
             "ticks": ""
            },
            "colorscale": [
             [
              0,
              "#0d0887"
             ],
             [
              0.1111111111111111,
              "#46039f"
             ],
             [
              0.2222222222222222,
              "#7201a8"
             ],
             [
              0.3333333333333333,
              "#9c179e"
             ],
             [
              0.4444444444444444,
              "#bd3786"
             ],
             [
              0.5555555555555556,
              "#d8576b"
             ],
             [
              0.6666666666666666,
              "#ed7953"
             ],
             [
              0.7777777777777778,
              "#fb9f3a"
             ],
             [
              0.8888888888888888,
              "#fdca26"
             ],
             [
              1,
              "#f0f921"
             ]
            ],
            "type": "histogram2dcontour"
           }
          ],
          "mesh3d": [
           {
            "colorbar": {
             "outlinewidth": 0,
             "ticks": ""
            },
            "type": "mesh3d"
           }
          ],
          "parcoords": [
           {
            "line": {
             "colorbar": {
              "outlinewidth": 0,
              "ticks": ""
             }
            },
            "type": "parcoords"
           }
          ],
          "pie": [
           {
            "automargin": true,
            "type": "pie"
           }
          ],
          "scatter": [
           {
            "fillpattern": {
             "fillmode": "overlay",
             "size": 10,
             "solidity": 0.2
            },
            "type": "scatter"
           }
          ],
          "scatter3d": [
           {
            "line": {
             "colorbar": {
              "outlinewidth": 0,
              "ticks": ""
             }
            },
            "marker": {
             "colorbar": {
              "outlinewidth": 0,
              "ticks": ""
             }
            },
            "type": "scatter3d"
           }
          ],
          "scattercarpet": [
           {
            "marker": {
             "colorbar": {
              "outlinewidth": 0,
              "ticks": ""
             }
            },
            "type": "scattercarpet"
           }
          ],
          "scattergeo": [
           {
            "marker": {
             "colorbar": {
              "outlinewidth": 0,
              "ticks": ""
             }
            },
            "type": "scattergeo"
           }
          ],
          "scattergl": [
           {
            "marker": {
             "colorbar": {
              "outlinewidth": 0,
              "ticks": ""
             }
            },
            "type": "scattergl"
           }
          ],
          "scattermapbox": [
           {
            "marker": {
             "colorbar": {
              "outlinewidth": 0,
              "ticks": ""
             }
            },
            "type": "scattermapbox"
           }
          ],
          "scatterpolar": [
           {
            "marker": {
             "colorbar": {
              "outlinewidth": 0,
              "ticks": ""
             }
            },
            "type": "scatterpolar"
           }
          ],
          "scatterpolargl": [
           {
            "marker": {
             "colorbar": {
              "outlinewidth": 0,
              "ticks": ""
             }
            },
            "type": "scatterpolargl"
           }
          ],
          "scatterternary": [
           {
            "marker": {
             "colorbar": {
              "outlinewidth": 0,
              "ticks": ""
             }
            },
            "type": "scatterternary"
           }
          ],
          "surface": [
           {
            "colorbar": {
             "outlinewidth": 0,
             "ticks": ""
            },
            "colorscale": [
             [
              0,
              "#0d0887"
             ],
             [
              0.1111111111111111,
              "#46039f"
             ],
             [
              0.2222222222222222,
              "#7201a8"
             ],
             [
              0.3333333333333333,
              "#9c179e"
             ],
             [
              0.4444444444444444,
              "#bd3786"
             ],
             [
              0.5555555555555556,
              "#d8576b"
             ],
             [
              0.6666666666666666,
              "#ed7953"
             ],
             [
              0.7777777777777778,
              "#fb9f3a"
             ],
             [
              0.8888888888888888,
              "#fdca26"
             ],
             [
              1,
              "#f0f921"
             ]
            ],
            "type": "surface"
           }
          ],
          "table": [
           {
            "cells": {
             "fill": {
              "color": "#EBF0F8"
             },
             "line": {
              "color": "white"
             }
            },
            "header": {
             "fill": {
              "color": "#C8D4E3"
             },
             "line": {
              "color": "white"
             }
            },
            "type": "table"
           }
          ]
         },
         "layout": {
          "annotationdefaults": {
           "arrowcolor": "#2a3f5f",
           "arrowhead": 0,
           "arrowwidth": 1
          },
          "autotypenumbers": "strict",
          "coloraxis": {
           "colorbar": {
            "outlinewidth": 0,
            "ticks": ""
           }
          },
          "colorscale": {
           "diverging": [
            [
             0,
             "#8e0152"
            ],
            [
             0.1,
             "#c51b7d"
            ],
            [
             0.2,
             "#de77ae"
            ],
            [
             0.3,
             "#f1b6da"
            ],
            [
             0.4,
             "#fde0ef"
            ],
            [
             0.5,
             "#f7f7f7"
            ],
            [
             0.6,
             "#e6f5d0"
            ],
            [
             0.7,
             "#b8e186"
            ],
            [
             0.8,
             "#7fbc41"
            ],
            [
             0.9,
             "#4d9221"
            ],
            [
             1,
             "#276419"
            ]
           ],
           "sequential": [
            [
             0,
             "#0d0887"
            ],
            [
             0.1111111111111111,
             "#46039f"
            ],
            [
             0.2222222222222222,
             "#7201a8"
            ],
            [
             0.3333333333333333,
             "#9c179e"
            ],
            [
             0.4444444444444444,
             "#bd3786"
            ],
            [
             0.5555555555555556,
             "#d8576b"
            ],
            [
             0.6666666666666666,
             "#ed7953"
            ],
            [
             0.7777777777777778,
             "#fb9f3a"
            ],
            [
             0.8888888888888888,
             "#fdca26"
            ],
            [
             1,
             "#f0f921"
            ]
           ],
           "sequentialminus": [
            [
             0,
             "#0d0887"
            ],
            [
             0.1111111111111111,
             "#46039f"
            ],
            [
             0.2222222222222222,
             "#7201a8"
            ],
            [
             0.3333333333333333,
             "#9c179e"
            ],
            [
             0.4444444444444444,
             "#bd3786"
            ],
            [
             0.5555555555555556,
             "#d8576b"
            ],
            [
             0.6666666666666666,
             "#ed7953"
            ],
            [
             0.7777777777777778,
             "#fb9f3a"
            ],
            [
             0.8888888888888888,
             "#fdca26"
            ],
            [
             1,
             "#f0f921"
            ]
           ]
          },
          "colorway": [
           "#636efa",
           "#EF553B",
           "#00cc96",
           "#ab63fa",
           "#FFA15A",
           "#19d3f3",
           "#FF6692",
           "#B6E880",
           "#FF97FF",
           "#FECB52"
          ],
          "font": {
           "color": "#2a3f5f"
          },
          "geo": {
           "bgcolor": "white",
           "lakecolor": "white",
           "landcolor": "#E5ECF6",
           "showlakes": true,
           "showland": true,
           "subunitcolor": "white"
          },
          "hoverlabel": {
           "align": "left"
          },
          "hovermode": "closest",
          "mapbox": {
           "style": "light"
          },
          "paper_bgcolor": "white",
          "plot_bgcolor": "#E5ECF6",
          "polar": {
           "angularaxis": {
            "gridcolor": "white",
            "linecolor": "white",
            "ticks": ""
           },
           "bgcolor": "#E5ECF6",
           "radialaxis": {
            "gridcolor": "white",
            "linecolor": "white",
            "ticks": ""
           }
          },
          "scene": {
           "xaxis": {
            "backgroundcolor": "#E5ECF6",
            "gridcolor": "white",
            "gridwidth": 2,
            "linecolor": "white",
            "showbackground": true,
            "ticks": "",
            "zerolinecolor": "white"
           },
           "yaxis": {
            "backgroundcolor": "#E5ECF6",
            "gridcolor": "white",
            "gridwidth": 2,
            "linecolor": "white",
            "showbackground": true,
            "ticks": "",
            "zerolinecolor": "white"
           },
           "zaxis": {
            "backgroundcolor": "#E5ECF6",
            "gridcolor": "white",
            "gridwidth": 2,
            "linecolor": "white",
            "showbackground": true,
            "ticks": "",
            "zerolinecolor": "white"
           }
          },
          "shapedefaults": {
           "line": {
            "color": "#2a3f5f"
           }
          },
          "ternary": {
           "aaxis": {
            "gridcolor": "white",
            "linecolor": "white",
            "ticks": ""
           },
           "baxis": {
            "gridcolor": "white",
            "linecolor": "white",
            "ticks": ""
           },
           "bgcolor": "#E5ECF6",
           "caxis": {
            "gridcolor": "white",
            "linecolor": "white",
            "ticks": ""
           }
          },
          "title": {
           "x": 0.05
          },
          "xaxis": {
           "automargin": true,
           "gridcolor": "white",
           "linecolor": "white",
           "ticks": "",
           "title": {
            "standoff": 15
           },
           "zerolinecolor": "white",
           "zerolinewidth": 2
          },
          "yaxis": {
           "automargin": true,
           "gridcolor": "white",
           "linecolor": "white",
           "ticks": "",
           "title": {
            "standoff": 15
           },
           "zerolinecolor": "white",
           "zerolinewidth": 2
          }
         }
        },
        "title": {
         "text": "Simple 3D Scatter Plot"
        }
       }
      },
      "image/png": "[encoded data removed]",
      "text/html": [
       "<div>                            <div id=\"72a5c598-e848-48bf-beb1-cde8242d2f06\" class=\"plotly-graph-div\" style=\"height:525px; width:100%;\"></div>            <script type=\"text/javascript\">                require([\"plotly\"], function(Plotly) {                    window.PLOTLYENV=window.PLOTLYENV || {};                                    if (document.getElementById(\"72a5c598-e848-48bf-beb1-cde8242d2f06\")) {                    Plotly.newPlot(                        \"72a5c598-e848-48bf-beb1-cde8242d2f06\",                        [{\"marker\":{\"color\":[0.6420316461542878,0.08413996499504883,0.16162871409461377,0.8985541885270792,0.6064290596595899,0.009197051616629648,0.1014715428660321,0.6635017691080558,0.005061583846218687,0.16080805141749865,0.5487337893665861,0.6918951976926933,0.6519612595026005,0.22426930946055978,0.7121792213475359,0.23724908749680007,0.3253996981592677,0.7464914051180241,0.6496328990472147,0.8492234104941779,0.6576128923003434,0.5683086033354716,0.09367476782809248,0.3677158030594335,0.26520236768172545,0.24398964337908358,0.9730105547524456,0.3930977246667604,0.8920465551771133,0.6311386259972629,0.7948113035416484,0.5026370931051921,0.5769038846263591,0.4925176938188639,0.1952429877980445,0.7224521152615053,0.2807723624408558,0.02431596643145384,0.6454722959071678,0.17711067940704894,0.9404585843529143,0.9539285770025874,0.9148643902204485,0.3701587002554444,0.015456616528867428,0.9283185625877254,0.42818414831731433,0.9666548190436696,0.9636199770892528,0.8530094554673601,0.2944488920695857,0.38509772860192526,0.8511366715168569,0.31692200515627766,0.1694927466860925,0.5568012624583502,0.936154774160781,0.696029796674973,0.570061170089365,0.09717649377076854,0.6150072266991697,0.9900538501042633,0.14008401523652403,0.5183296523637367,0.8773730719279554,0.7407686177542044,0.697015740995268,0.7024840839871093,0.35949115121975517,0.29359184426449336,0.8093611554785136,0.8101133946791808,0.8670723185801037,0.9132405525564713,0.5113423988609378,0.5015162946871996,0.7982951789667752,0.6499639307777652,0.7019668772577033,0.795792669436101,0.8900053418175663,0.3379951568515358,0.375582952639944,0.093981939840869,0.578280140996174,0.035942273796742086,0.46559801813246016,0.5426446347075766,0.2865412521282844,0.5908332605690108,0.03050024993904943,0.03734818874921442,0.8226005606596583,0.3601906414112629,0.12706051265188478,0.5222432600548044,0.7699935530986108,0.21582102749684318,0.6228904758190003,0.085347464993768],\"colorscale\":[[0.0,\"#440154\"],[0.1111111111111111,\"#482878\"],[0.2222222222222222,\"#3e4989\"],[0.3333333333333333,\"#31688e\"],[0.4444444444444444,\"#26828e\"],[0.5555555555555556,\"#1f9e89\"],[0.6666666666666666,\"#35b779\"],[0.7777777777777778,\"#6ece58\"],[0.8888888888888888,\"#b5de2b\"],[1.0,\"#fde725\"]],\"opacity\":0.8,\"size\":5},\"mode\":\"markers\",\"x\":[0.3745401188473625,0.9507143064099162,0.7319939418114051,0.5986584841970366,0.15601864044243652,0.15599452033620265,0.05808361216819946,0.8661761457749352,0.6011150117432088,0.7080725777960455,0.020584494295802447,0.9699098521619943,0.8324426408004217,0.21233911067827616,0.18182496720710062,0.18340450985343382,0.3042422429595377,0.5247564316322378,0.43194501864211576,0.2912291401980419,0.6118528947223795,0.13949386065204183,0.29214464853521815,0.3663618432936917,0.45606998421703593,0.7851759613930136,0.19967378215835974,0.5142344384136116,0.5924145688620425,0.046450412719997725,0.6075448519014384,0.17052412368729153,0.06505159298527952,0.9488855372533332,0.9656320330745594,0.8083973481164611,0.3046137691733707,0.09767211400638387,0.6842330265121569,0.4401524937396013,0.12203823484477883,0.4951769101112702,0.034388521115218396,0.9093204020787821,0.2587799816000169,0.662522284353982,0.31171107608941095,0.5200680211778108,0.5467102793432796,0.18485445552552704,0.9695846277645586,0.7751328233611146,0.9394989415641891,0.8948273504276488,0.5978999788110851,0.9218742350231168,0.0884925020519195,0.1959828624191452,0.045227288910538066,0.32533033076326434,0.388677289689482,0.2713490317738959,0.8287375091519293,0.3567533266935893,0.28093450968738076,0.5426960831582485,0.14092422497476265,0.8021969807540397,0.07455064367977082,0.9868869366005173,0.7722447692966574,0.1987156815341724,0.005522117123602399,0.8154614284548342,0.7068573438476171,0.7290071680409873,0.7712703466859457,0.07404465173409036,0.3584657285442726,0.11586905952512971,0.8631034258755935,0.6232981268275579,0.3308980248526492,0.06355835028602363,0.3109823217156622,0.32518332202674705,0.7296061783380641,0.6375574713552131,0.8872127425763265,0.4722149251619493,0.1195942459383017,0.713244787222995,0.7607850486168974,0.5612771975694962,0.770967179954561,0.49379559636439074,0.5227328293819941,0.42754101835854963,0.02541912674409519,0.10789142699330445],\"y\":[0.03142918568673425,0.6364104112637804,0.3143559810763267,0.5085706911647028,0.907566473926093,0.24929222914887494,0.41038292303562973,0.7555511385430487,0.22879816549162246,0.07697990982879299,0.289751452913768,0.16122128725400442,0.9296976523425731,0.808120379564417,0.6334037565104235,0.8714605901877177,0.8036720768991145,0.18657005888603584,0.8925589984899778,0.5393422419156507,0.8074401551640625,0.8960912999234932,0.3180034749718639,0.11005192452767676,0.22793516254194168,0.4271077886262563,0.8180147659224931,0.8607305832563434,0.006952130531190703,0.5107473025775657,0.417411003148779,0.22210781047073025,0.1198653673336828,0.33761517140362796,0.9429097039125192,0.32320293202075523,0.5187906217433661,0.7030189588951778,0.363629602379294,0.9717820827209607,0.9624472949421112,0.25178229582536416,0.49724850589238545,0.30087830981676966,0.2848404943774676,0.036886947354532795,0.6095643339798968,0.5026790232288615,0.05147875124998935,0.27864646423661144,0.9082658859666537,0.23956189066697242,0.1448948720912231,0.489452760277563,0.9856504541106007,0.2420552715115004,0.6721355474058786,0.7616196153287176,0.23763754399239967,0.7282163486118596,0.3677831327192532,0.6323058305935795,0.6335297107608947,0.5357746840747585,0.0902897700544083,0.835302495589238,0.32078006497173583,0.18651851039985423,0.040775141554763916,0.5908929431882418,0.6775643618422824,0.016587828927856152,0.512093058299281,0.22649577519793795,0.6451727904094499,0.17436642900499144,0.690937738102466,0.3867353463005374,0.9367299887367345,0.13752094414599325,0.3410663510502585,0.11347352124058907,0.9246936182785628,0.877339353380981,0.2579416277151556,0.659984046034179,0.8172222002012158,0.5552008115994623,0.5296505783560065,0.24185229090045168,0.09310276780589921,0.8972157579533268,0.9004180571633305,0.6331014572732679,0.3390297910487007,0.3492095746126609,0.7259556788702394,0.8971102599525771,0.8870864242651173,0.7798755458576239],\"z\":[0.6420316461542878,0.08413996499504883,0.16162871409461377,0.8985541885270792,0.6064290596595899,0.009197051616629648,0.1014715428660321,0.6635017691080558,0.005061583846218687,0.16080805141749865,0.5487337893665861,0.6918951976926933,0.6519612595026005,0.22426930946055978,0.7121792213475359,0.23724908749680007,0.3253996981592677,0.7464914051180241,0.6496328990472147,0.8492234104941779,0.6576128923003434,0.5683086033354716,0.09367476782809248,0.3677158030594335,0.26520236768172545,0.24398964337908358,0.9730105547524456,0.3930977246667604,0.8920465551771133,0.6311386259972629,0.7948113035416484,0.5026370931051921,0.5769038846263591,0.4925176938188639,0.1952429877980445,0.7224521152615053,0.2807723624408558,0.02431596643145384,0.6454722959071678,0.17711067940704894,0.9404585843529143,0.9539285770025874,0.9148643902204485,0.3701587002554444,0.015456616528867428,0.9283185625877254,0.42818414831731433,0.9666548190436696,0.9636199770892528,0.8530094554673601,0.2944488920695857,0.38509772860192526,0.8511366715168569,0.31692200515627766,0.1694927466860925,0.5568012624583502,0.936154774160781,0.696029796674973,0.570061170089365,0.09717649377076854,0.6150072266991697,0.9900538501042633,0.14008401523652403,0.5183296523637367,0.8773730719279554,0.7407686177542044,0.697015740995268,0.7024840839871093,0.35949115121975517,0.29359184426449336,0.8093611554785136,0.8101133946791808,0.8670723185801037,0.9132405525564713,0.5113423988609378,0.5015162946871996,0.7982951789667752,0.6499639307777652,0.7019668772577033,0.795792669436101,0.8900053418175663,0.3379951568515358,0.375582952639944,0.093981939840869,0.578280140996174,0.035942273796742086,0.46559801813246016,0.5426446347075766,0.2865412521282844,0.5908332605690108,0.03050024993904943,0.03734818874921442,0.8226005606596583,0.3601906414112629,0.12706051265188478,0.5222432600548044,0.7699935530986108,0.21582102749684318,0.6228904758190003,0.085347464993768],\"type\":\"scatter3d\"}],                        {\"template\":{\"data\":{\"histogram2dcontour\":[{\"type\":\"histogram2dcontour\",\"colorbar\":{\"outlinewidth\":0,\"ticks\":\"\"},\"colorscale\":[[0.0,\"#0d0887\"],[0.1111111111111111,\"#46039f\"],[0.2222222222222222,\"#7201a8\"],[0.3333333333333333,\"#9c179e\"],[0.4444444444444444,\"#bd3786\"],[0.5555555555555556,\"#d8576b\"],[0.6666666666666666,\"#ed7953\"],[0.7777777777777778,\"#fb9f3a\"],[0.8888888888888888,\"#fdca26\"],[1.0,\"#f0f921\"]]}],\"choropleth\":[{\"type\":\"choropleth\",\"colorbar\":{\"outlinewidth\":0,\"ticks\":\"\"}}],\"histogram2d\":[{\"type\":\"histogram2d\",\"colorbar\":{\"outlinewidth\":0,\"ticks\":\"\"},\"colorscale\":[[0.0,\"#0d0887\"],[0.1111111111111111,\"#46039f\"],[0.2222222222222222,\"#7201a8\"],[0.3333333333333333,\"#9c179e\"],[0.4444444444444444,\"#bd3786\"],[0.5555555555555556,\"#d8576b\"],[0.6666666666666666,\"#ed7953\"],[0.7777777777777778,\"#fb9f3a\"],[0.8888888888888888,\"#fdca26\"],[1.0,\"#f0f921\"]]}],\"heatmap\":[{\"type\":\"heatmap\",\"colorbar\":{\"outlinewidth\":0,\"ticks\":\"\"},\"colorscale\":[[0.0,\"#0d0887\"],[0.1111111111111111,\"#46039f\"],[0.2222222222222222,\"#7201a8\"],[0.3333333333333333,\"#9c179e\"],[0.4444444444444444,\"#bd3786\"],[0.5555555555555556,\"#d8576b\"],[0.6666666666666666,\"#ed7953\"],[0.7777777777777778,\"#fb9f3a\"],[0.8888888888888888,\"#fdca26\"],[1.0,\"#f0f921\"]]}],\"heatmapgl\":[{\"type\":\"heatmapgl\",\"colorbar\":{\"outlinewidth\":0,\"ticks\":\"\"},\"colorscale\":[[0.0,\"#0d0887\"],[0.1111111111111111,\"#46039f\"],[0.2222222222222222,\"#7201a8\"],[0.3333333333333333,\"#9c179e\"],[0.4444444444444444,\"#bd3786\"],[0.5555555555555556,\"#d8576b\"],[0.6666666666666666,\"#ed7953\"],[0.7777777777777778,\"#fb9f3a\"],[0.8888888888888888,\"#fdca26\"],[1.0,\"#f0f921\"]]}],\"contourcarpet\":[{\"type\":\"contourcarpet\",\"colorbar\":{\"outlinewidth\":0,\"ticks\":\"\"}}],\"contour\":[{\"type\":\"contour\",\"colorbar\":{\"outlinewidth\":0,\"ticks\":\"\"},\"colorscale\":[[0.0,\"#0d0887\"],[0.1111111111111111,\"#46039f\"],[0.2222222222222222,\"#7201a8\"],[0.3333333333333333,\"#9c179e\"],[0.4444444444444444,\"#bd3786\"],[0.5555555555555556,\"#d8576b\"],[0.6666666666666666,\"#ed7953\"],[0.7777777777777778,\"#fb9f3a\"],[0.8888888888888888,\"#fdca26\"],[1.0,\"#f0f921\"]]}],\"surface\":[{\"type\":\"surface\",\"colorbar\":{\"outlinewidth\":0,\"ticks\":\"\"},\"colorscale\":[[0.0,\"#0d0887\"],[0.1111111111111111,\"#46039f\"],[0.2222222222222222,\"#7201a8\"],[0.3333333333333333,\"#9c179e\"],[0.4444444444444444,\"#bd3786\"],[0.5555555555555556,\"#d8576b\"],[0.6666666666666666,\"#ed7953\"],[0.7777777777777778,\"#fb9f3a\"],[0.8888888888888888,\"#fdca26\"],[1.0,\"#f0f921\"]]}],\"mesh3d\":[{\"type\":\"mesh3d\",\"colorbar\":{\"outlinewidth\":0,\"ticks\":\"\"}}],\"scatter\":[{\"fillpattern\":{\"fillmode\":\"overlay\",\"size\":10,\"solidity\":0.2},\"type\":\"scatter\"}],\"parcoords\":[{\"type\":\"parcoords\",\"line\":{\"colorbar\":{\"outlinewidth\":0,\"ticks\":\"\"}}}],\"scatterpolargl\":[{\"type\":\"scatterpolargl\",\"marker\":{\"colorbar\":{\"outlinewidth\":0,\"ticks\":\"\"}}}],\"bar\":[{\"error_x\":{\"color\":\"#2a3f5f\"},\"error_y\":{\"color\":\"#2a3f5f\"},\"marker\":{\"line\":{\"color\":\"#E5ECF6\",\"width\":0.5},\"pattern\":{\"fillmode\":\"overlay\",\"size\":10,\"solidity\":0.2}},\"type\":\"bar\"}],\"scattergeo\":[{\"type\":\"scattergeo\",\"marker\":{\"colorbar\":{\"outlinewidth\":0,\"ticks\":\"\"}}}],\"scatterpolar\":[{\"type\":\"scatterpolar\",\"marker\":{\"colorbar\":{\"outlinewidth\":0,\"ticks\":\"\"}}}],\"histogram\":[{\"marker\":{\"pattern\":{\"fillmode\":\"overlay\",\"size\":10,\"solidity\":0.2}},\"type\":\"histogram\"}],\"scattergl\":[{\"type\":\"scattergl\",\"marker\":{\"colorbar\":{\"outlinewidth\":0,\"ticks\":\"\"}}}],\"scatter3d\":[{\"type\":\"scatter3d\",\"line\":{\"colorbar\":{\"outlinewidth\":0,\"ticks\":\"\"}},\"marker\":{\"colorbar\":{\"outlinewidth\":0,\"ticks\":\"\"}}}],\"scattermapbox\":[{\"type\":\"scattermapbox\",\"marker\":{\"colorbar\":{\"outlinewidth\":0,\"ticks\":\"\"}}}],\"scatterternary\":[{\"type\":\"scatterternary\",\"marker\":{\"colorbar\":{\"outlinewidth\":0,\"ticks\":\"\"}}}],\"scattercarpet\":[{\"type\":\"scattercarpet\",\"marker\":{\"colorbar\":{\"outlinewidth\":0,\"ticks\":\"\"}}}],\"carpet\":[{\"aaxis\":{\"endlinecolor\":\"#2a3f5f\",\"gridcolor\":\"white\",\"linecolor\":\"white\",\"minorgridcolor\":\"white\",\"startlinecolor\":\"#2a3f5f\"},\"baxis\":{\"endlinecolor\":\"#2a3f5f\",\"gridcolor\":\"white\",\"linecolor\":\"white\",\"minorgridcolor\":\"white\",\"startlinecolor\":\"#2a3f5f\"},\"type\":\"carpet\"}],\"table\":[{\"cells\":{\"fill\":{\"color\":\"#EBF0F8\"},\"line\":{\"color\":\"white\"}},\"header\":{\"fill\":{\"color\":\"#C8D4E3\"},\"line\":{\"color\":\"white\"}},\"type\":\"table\"}],\"barpolar\":[{\"marker\":{\"line\":{\"color\":\"#E5ECF6\",\"width\":0.5},\"pattern\":{\"fillmode\":\"overlay\",\"size\":10,\"solidity\":0.2}},\"type\":\"barpolar\"}],\"pie\":[{\"automargin\":true,\"type\":\"pie\"}]},\"layout\":{\"autotypenumbers\":\"strict\",\"colorway\":[\"#636efa\",\"#EF553B\",\"#00cc96\",\"#ab63fa\",\"#FFA15A\",\"#19d3f3\",\"#FF6692\",\"#B6E880\",\"#FF97FF\",\"#FECB52\"],\"font\":{\"color\":\"#2a3f5f\"},\"hovermode\":\"closest\",\"hoverlabel\":{\"align\":\"left\"},\"paper_bgcolor\":\"white\",\"plot_bgcolor\":\"#E5ECF6\",\"polar\":{\"bgcolor\":\"#E5ECF6\",\"angularaxis\":{\"gridcolor\":\"white\",\"linecolor\":\"white\",\"ticks\":\"\"},\"radialaxis\":{\"gridcolor\":\"white\",\"linecolor\":\"white\",\"ticks\":\"\"}},\"ternary\":{\"bgcolor\":\"#E5ECF6\",\"aaxis\":{\"gridcolor\":\"white\",\"linecolor\":\"white\",\"ticks\":\"\"},\"baxis\":{\"gridcolor\":\"white\",\"linecolor\":\"white\",\"ticks\":\"\"},\"caxis\":{\"gridcolor\":\"white\",\"linecolor\":\"white\",\"ticks\":\"\"}},\"coloraxis\":{\"colorbar\":{\"outlinewidth\":0,\"ticks\":\"\"}},\"colorscale\":{\"sequential\":[[0.0,\"#0d0887\"],[0.1111111111111111,\"#46039f\"],[0.2222222222222222,\"#7201a8\"],[0.3333333333333333,\"#9c179e\"],[0.4444444444444444,\"#bd3786\"],[0.5555555555555556,\"#d8576b\"],[0.6666666666666666,\"#ed7953\"],[0.7777777777777778,\"#fb9f3a\"],[0.8888888888888888,\"#fdca26\"],[1.0,\"#f0f921\"]],\"sequentialminus\":[[0.0,\"#0d0887\"],[0.1111111111111111,\"#46039f\"],[0.2222222222222222,\"#7201a8\"],[0.3333333333333333,\"#9c179e\"],[0.4444444444444444,\"#bd3786\"],[0.5555555555555556,\"#d8576b\"],[0.6666666666666666,\"#ed7953\"],[0.7777777777777778,\"#fb9f3a\"],[0.8888888888888888,\"#fdca26\"],[1.0,\"#f0f921\"]],\"diverging\":[[0,\"#8e0152\"],[0.1,\"#c51b7d\"],[0.2,\"#de77ae\"],[0.3,\"#f1b6da\"],[0.4,\"#fde0ef\"],[0.5,\"#f7f7f7\"],[0.6,\"#e6f5d0\"],[0.7,\"#b8e186\"],[0.8,\"#7fbc41\"],[0.9,\"#4d9221\"],[1,\"#276419\"]]},\"xaxis\":{\"gridcolor\":\"white\",\"linecolor\":\"white\",\"ticks\":\"\",\"title\":{\"standoff\":15},\"zerolinecolor\":\"white\",\"automargin\":true,\"zerolinewidth\":2},\"yaxis\":{\"gridcolor\":\"white\",\"linecolor\":\"white\",\"ticks\":\"\",\"title\":{\"standoff\":15},\"zerolinecolor\":\"white\",\"automargin\":true,\"zerolinewidth\":2},\"scene\":{\"xaxis\":{\"backgroundcolor\":\"#E5ECF6\",\"gridcolor\":\"white\",\"linecolor\":\"white\",\"showbackground\":true,\"ticks\":\"\",\"zerolinecolor\":\"white\",\"gridwidth\":2},\"yaxis\":{\"backgroundcolor\":\"#E5ECF6\",\"gridcolor\":\"white\",\"linecolor\":\"white\",\"showbackground\":true,\"ticks\":\"\",\"zerolinecolor\":\"white\",\"gridwidth\":2},\"zaxis\":{\"backgroundcolor\":\"#E5ECF6\",\"gridcolor\":\"white\",\"linecolor\":\"white\",\"showbackground\":true,\"ticks\":\"\",\"zerolinecolor\":\"white\",\"gridwidth\":2}},\"shapedefaults\":{\"line\":{\"color\":\"#2a3f5f\"}},\"annotationdefaults\":{\"arrowcolor\":\"#2a3f5f\",\"arrowhead\":0,\"arrowwidth\":1},\"geo\":{\"bgcolor\":\"white\",\"landcolor\":\"#E5ECF6\",\"subunitcolor\":\"white\",\"showland\":true,\"showlakes\":true,\"lakecolor\":\"white\"},\"title\":{\"x\":0.05},\"mapbox\":{\"style\":\"light\"}}},\"margin\":{\"l\":0,\"r\":0,\"b\":0,\"t\":40},\"title\":{\"text\":\"Simple 3D Scatter Plot\"},\"scene\":{\"xaxis\":{\"title\":{\"text\":\"X Axis\"}},\"yaxis\":{\"title\":{\"text\":\"Y Axis\"}},\"zaxis\":{\"title\":{\"text\":\"Z Axis\"}}}},                        {\"responsive\": true}                    ).then(function(){\n",
       "                            \n",
       "var gd = document.getElementById('72a5c598-e848-48bf-beb1-cde8242d2f06');\n",
       "var x = new MutationObserver(function (mutations, observer) {{\n",
       "        var display = window.getComputedStyle(gd).display;\n",
       "        if (!display || display === 'none') {{\n",
       "            console.log([gd, 'removed!']);\n",
       "            Plotly.purge(gd);\n",
       "            observer.disconnect();\n",
       "        }}\n",
       "}});\n",
       "\n",
       "// Listen for the removal of the full notebook cells\n",
       "var notebookContainer = gd.closest('#notebook-container');\n",
       "if (notebookContainer) {{\n",
       "    x.observe(notebookContainer, {childList: true});\n",
       "}}\n",
       "\n",
       "// Listen for the clearing of the current output cell\n",
       "var outputEl = gd.closest('.output');\n",
       "if (outputEl) {{\n",
       "    x.observe(outputEl, {childList: true});\n",
       "}}\n",
       "\n",
       "                        })                };                });            </script>        </div>"
      ]
     },
     "metadata": {},
     "output_type": "display_data"
    }
   ],
   "source": [
    "import plotly.graph_objects as go\n",
    "import numpy as np\n",
    "\n",
    "# Prepare sample 3D data\n",
    "np.random.seed(42) # for reproducibility\n",
    "num_points = 100\n",
    "x_data = np.random.rand(num_points)\n",
    "y_data = np.random.rand(num_points)\n",
    "z_data = np.random.rand(num_points)\n",
    "\n",
    "# Create a 3D scatter plot trace\n",
    "scatter_trace = go.Scatter3d(\n",
    "    x=x_data,\n",
    "    y=y_data,\n",
    "    z=z_data,\n",
    "    mode='markers', # Display markers for data points [1]\n",
    "    marker=dict(\n",
    "        size=5,\n",
    "        color=z_data, # Color points based on their z-value (optional) [1]\n",
    "        colorscale='Viridis', # Choose a colorscale (optional) [1]\n",
    "        opacity=0.8\n",
    "    )\n",
    ")\n",
    "\n",
    "# Create a Figure and add the trace\n",
    "fig = go.Figure(data=[scatter_trace])\n",
    "\n",
    "# Update layout (optional)\n",
    "fig.update_layout(\n",
    "    title='Simple 3D Scatter Plot',\n",
    "    scene = dict(\n",
    "        xaxis_title='X Axis',\n",
    "        yaxis_title='Y Axis',\n",
    "        zaxis_title='Z Axis'\n",
    "    ),\n",
    "    margin=dict(l=0, r=0, b=0, t=40) # Optional: Adjust margins [1]\n",
    ")\n",
    "\n",
    "# Display the plot\n",
    "fig.show()"
   ]
  },
  {
   "cell_type": "code",
   "execution_count": null,
   "id": "361a5e2f-0816-4f2f-82bb-d3f100de4694",
   "metadata": {},
   "outputs": [],
   "source": []
  }
 ],
 "metadata": {
  "kernelspec": {
   "display_name": "Python 3 (ipykernel)",
   "language": "python",
   "name": "python3"
  },
  "language_info": {
   "codemirror_mode": {
    "name": "ipython",
    "version": 3
   },
   "file_extension": ".py",
   "mimetype": "text/x-python",
   "name": "python",
   "nbconvert_exporter": "python",
   "pygments_lexer": "ipython3",
   "version": "3.12.7"
  }
 },
 "nbformat": 4,
 "nbformat_minor": 5
}
